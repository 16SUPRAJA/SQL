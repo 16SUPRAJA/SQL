{
 "cells": [
  {
   "cell_type": "code",
   "execution_count": null,
   "id": "1ab55c9a",
   "metadata": {},
   "outputs": [],
   "source": [
    "# technology\n",
    "use ineuron;\n",
    "drop table ats;\n",
    "create table ats(\n",
    "id int,\n",
    "technology varchar(25) not null\n",
    ");\n",
    "desc ats;\n",
    "insert into ats values(1,'DS'),\n",
    "(1,'Tablue'),(1,\"SQL\"),(2,'R'),(2,'PowerBI'),(1,'Python')\n",
    ";\n",
    "select * from ats;\n",
    "# DS,SQL,Python\n",
    "select * from ats where technology='DS' or technology='R';\n",
    "select id from ats where technology in ('DS','SQL','Python'); # = True;\n",
    "# id having all the three tecnologies\n",
    "select id from ats where technology='DS' and technology='SQL' and technology='Python';\n",
    "select id from ats where technology='DS' \n",
    "and id in (\n",
    "select id from ats\n",
    "where technology='SQL'\n",
    "and id in (\n",
    "select id from ats where technology='Python')\n",
    ");\n",
    "select id from ats where technology in ('DS','SQL','Python')\n",
    "group by id\n",
    "having count(distinct technology)=4;\n",
    "select id from ats group by id having count(technology)=4;\n",
    "\n",
    "\n"
   ]
  },
  {
   "cell_type": "code",
   "execution_count": null,
   "id": "2b3b017a",
   "metadata": {},
   "outputs": [],
   "source": [
    "\n",
    "#  e-commerce website\n",
    "\n",
    "use ineuron;\n",
    "create table product_info(\n",
    "product_id int,\n",
    "product varchar(25) not null\n",
    ");\n",
    "\n",
    "insert into product_info values(1001,\"Blog\"),\n",
    "(1002,\"Youtube\"),\n",
    "(1003,\"eduction\");\n",
    "drop table product_info;\n",
    "drop table product_info_likes;\n",
    "\n",
    "create table product_info_likes(\n",
    "use_id int,\n",
    "product_id int,\n",
    "dates date\n",
    ");\n",
    "\n",
    "insert into product_info_likes values(1,1001,'2023-09-19'),\n",
    "(2,1003,'2023-08-18');\n",
    "select * from  product_info;\n",
    "select * from  product_info_likes;\n",
    "SELECT product_info_likes.product_id, product_info.product, product_info_likes.dates\n",
    "FROM product_info_likes\n",
    "INNER JOIN product_info ON product_info_likes.product_id=product_info.product_id;\n",
    "\n",
    "Select * From product_info left join product_info_likes\n",
    "on product_info.product_id=product_info_likes.product_id \n",
    "WHERE product_info_likes.product_id is null;\n"
   ]
  }
 ],
 "metadata": {
  "kernelspec": {
   "display_name": "Python 3 (ipykernel)",
   "language": "python",
   "name": "python3"
  },
  "language_info": {
   "codemirror_mode": {
    "name": "ipython",
    "version": 3
   },
   "file_extension": ".py",
   "mimetype": "text/x-python",
   "name": "python",
   "nbconvert_exporter": "python",
   "pygments_lexer": "ipython3",
   "version": "3.11.4"
  }
 },
 "nbformat": 4,
 "nbformat_minor": 5
}
