{
 "cells": [
  {
   "cell_type": "markdown",
   "id": "9e12b774",
   "metadata": {},
   "source": [
    "# Q1. Query all columns for all American cities in the CITY table with populations larger than 100000.The CountryCode for America is USA."
   ]
  },
  {
   "cell_type": "code",
   "execution_count": null,
   "id": "f56af2e1",
   "metadata": {},
   "outputs": [],
   "source": [
    "use ineuron;\n",
    "create table city\n",
    "( id int,\n",
    "name varchar(17),\n",
    "countrycode varchar(3),\n",
    "district varchar(20),\n",
    "population int);\n",
    "\n",
    "insert into city values ('6','Rotterdam','NLD','Zuid-Holland','593321'),('19','Zaanstad','NLD','Noord-Holland','135621'),\n",
    "('214','Porto Alegre','BRA','Rio Grande do Sul','1314032'),('397','Lauro de Freitas','BRA','Bahia','109236'),('547','Dobric','BGR','Varna','100399'), \n",
    "('552','Bujumbura','BDI','Bujumbura','300000'),('554','Santiago de Chile','CHL','Santiago','4703954'),('626','al-Minya','EGY','al-Minya','201360'),\n",
    "('646','Santa Ana','SLV','Santa Ana','139389'),('762','Bahir','Dar','ETH Amhara','96140'),('796','Baguio','PHL','CAR','252386'),\n",
    "('896','Malungon','PHL','Southern Mindanao','93232'),('904','Banjul','GMB','Banjul','42326'),('924','Villa','GTM','Nueva','101295'),\n",
    "('990','Waru','IDN','East Java','124300'),('1155','Latur','IND','Maharashtra','197408'),('1222','Tenali','IND','Andhra Pradesh','143726'),\n",
    "('1235','Tirunelveli','IND','Tamil Nadu','135825'),('1256','Alandur','IND','Tamil Nadu','125244'),\n",
    "('1279','Neyveli','IND','Tamil Nadu','118080'),('1293','Pallavaram','IND','Tamil Nadu','111866'),('1350','Dehri','IND','Bihar','94526'),\n",
    "('1383','Tabriz','IRN','East Azerbaidzan','1191043'),('1385','Karaj','IRN','Teheran','940968'),('1508','Bolzano','ITA','Trentino-Alto Adige','97232'),\n",
    "('1520','Cesena','ITA','Emilia-Romagna','89852'),('1613','Neyagawa','JPN','Osaka','257315'),('1630','Ageo','JPN','Saitama','209442'),\n",
    "('1661','Sayama','JPN','Saitama','162472'),('1681','Omuta','JPN','Fukuoka','142889'),('1739','Tokuyama','JPN','Yamaguchi','107078'),\n",
    "('1793','Novi Sad','YUG','Vojvodina','179626'),('1857','Kelowna','CAN','British Colombia','89442'),('1895','Harbin','CHN','Heilongjiang','4289800'),\n",
    "('1900','Changchun','CHN','Jilin','2812000'),('1913','Lanzhou','CHN','Gansu','1565800'),('1947','Changzhou','CHN','Jiangsu','530000'),\n",
    "('2070','Dezhou','CHN','Shandong','195485'),('2081','Heze','CHN','Shandong','189293'),('2111','Chenzhou','CHN','Hunan','169400'),\n",
    "('2153','Xianning','CHN','Hubei','136811'),('2192','Lhasa','CHN','Tibet','120000'),('2193','Lianyuan','CHN','Hunan','118858'),\n",
    "('2227','Xingcheng','CHN','Liaoning','102384'),('2273','Villavicencio','COL','Meta','273140'),('2384','Tong-yong','KOR','Kyongsangnam','131717'),\n",
    "('2386','Yongju','KOR','Kyongsangbuk','131097'),('2387','Chinhae','KOR','Kyongsangnam','125997'),('2388','Sangju','KOR','Kyongsangbuk','124116'),\n",
    "('2406','Herakleion','GRC','Crete','116178'),('2440','Monrovia','LBR','Montserrado','850000'),('2462','Lilongwe','MWI','Lilongwe','435964'),\n",
    "('2505','Taza','MAR','Taza-Al Hoceima-Taou','92700'),('2555','Xalapa','MEX','Veracruz','390058'),('2602','Ocosingo','MEX','Chiapas','171495'),\n",
    "('2609','Nogales','MEX','Sonora','159103'),('2670','San Pedro Cholula','MEX','Puebla','99734'),('2689','Palikir','FSM','Pohnpei','8600'),\n",
    "('2706','Tete','MOZ','Tete','101984'),('2716','Sittwe (Akyab)','MMR','Rakhine','137600'),('2922','Carolina','PRI','Carolina','186076'),\n",
    "('2967','Grudziadz','POL','Kujawsko-Pomorskie','102434'),('2972','Malabo','GNQ','Bioko','40000'),('3073','Essen','DEU','Nordrhein-Westfalen','599515'),\n",
    "('3169','Apia','WSM','Upolu','35900'),('3198','Dakar','SEN','Cap-Vert','785071'),('3253','Hama','SYR','Hama','343361'),\n",
    "('3288','Luchou','TWN','Taipei','160516'),('3309','Tanga','TZA','Tanga','137400'),('3353','Sousse','TUN','Sousse','145900'),\n",
    "('3377','Kahramanmaras','TUR','Kahramanmaras','245772'),('3430','Odesa','UKR','Odesa','1011000'),('3581','St Petersburg','RUS','Pietari','4694000'),\n",
    "('3770','Hanoi','VNM','Hanoi','1410000'),('3815','El Paso','USA','Texas','563662'),('3878','Scottsdale','USA','Arizona','202705'),('3965','Corona','USA','California','124966'),\n",
    "('3973','Concord','USA','California','121780'),('3977','Cedar Rapids','USA','Iowa','120758'),('3982','Coral Springs','USA','Florida','117549'),\n",
    "('4054','Fairfield','USA','California','92256'),('4058','Boulder','USA','Colorado','91238'),('4061','Fall River','USA','Massachusetts','90555')\n",
    ";\n",
    "select * from city;\n",
    "select name from city where countrycode=\"USA\" and population>100000;\n",
    "\n"
   ]
  },
  {
   "cell_type": "markdown",
   "id": "7e148334",
   "metadata": {},
   "source": [
    "# Q2. Query the NAME field for all American cities in the CITY table with populations larger than 120000.The CountryCode for America is USA."
   ]
  },
  {
   "cell_type": "code",
   "execution_count": null,
   "id": "1953a068",
   "metadata": {},
   "outputs": [],
   "source": [
    "create table city\n",
    "( id int,\n",
    "name varchar(17),\n",
    "countrycode varchar(3),\n",
    "district varchar(20),\n",
    "population int);\n",
    "\n",
    "insert into city values ('6','Rotterdam','NLD','Zuid-Holland','593321'),('19','Zaanstad','NLD','Noord-Holland','135621'),\n",
    "('214','Porto Alegre','BRA','Rio Grande do Sul','1314032'),('397','Lauro de Freitas','BRA','Bahia','109236'),('547','Dobric','BGR','Varna','100399'), \n",
    "('552','Bujumbura','BDI','Bujumbura','300000'),('554','Santiago de Chile','CHL','Santiago','4703954'),('626','al-Minya','EGY','al-Minya','201360'),\n",
    "('646','Santa Ana','SLV','Santa Ana','139389'),('762','Bahir','Dar','ETH Amhara','96140'),('796','Baguio','PHL','CAR','252386'),\n",
    "('896','Malungon','PHL','Southern Mindanao','93232'),('904','Banjul','GMB','Banjul','42326'),('924','Villa','GTM','Nueva','101295'),\n",
    "('990','Waru','IDN','East Java','124300'),('1155','Latur','IND','Maharashtra','197408'),('1222','Tenali','IND','Andhra Pradesh','143726'),\n",
    "('1235','Tirunelveli','IND','Tamil Nadu','135825'),('1256','Alandur','IND','Tamil Nadu','125244'),\n",
    "('1279','Neyveli','IND','Tamil Nadu','118080'),('1293','Pallavaram','IND','Tamil Nadu','111866'),('1350','Dehri','IND','Bihar','94526'),\n",
    "('1383','Tabriz','IRN','East Azerbaidzan','1191043'),('1385','Karaj','IRN','Teheran','940968'),('1508','Bolzano','ITA','Trentino-Alto Adige','97232'),\n",
    "('1520','Cesena','ITA','Emilia-Romagna','89852'),('1613','Neyagawa','JPN','Osaka','257315'),('1630','Ageo','JPN','Saitama','209442'),\n",
    "('1661','Sayama','JPN','Saitama','162472'),('1681','Omuta','JPN','Fukuoka','142889'),('1739','Tokuyama','JPN','Yamaguchi','107078'),\n",
    "('1793','Novi Sad','YUG','Vojvodina','179626'),('1857','Kelowna','CAN','British Colombia','89442'),('1895','Harbin','CHN','Heilongjiang','4289800'),\n",
    "('1900','Changchun','CHN','Jilin','2812000'),('1913','Lanzhou','CHN','Gansu','1565800'),('1947','Changzhou','CHN','Jiangsu','530000'),\n",
    "('2070','Dezhou','CHN','Shandong','195485'),('2081','Heze','CHN','Shandong','189293'),('2111','Chenzhou','CHN','Hunan','169400'),\n",
    "('2153','Xianning','CHN','Hubei','136811'),('2192','Lhasa','CHN','Tibet','120000'),('2193','Lianyuan','CHN','Hunan','118858'),\n",
    "('2227','Xingcheng','CHN','Liaoning','102384'),('2273','Villavicencio','COL','Meta','273140'),('2384','Tong-yong','KOR','Kyongsangnam','131717'),\n",
    "('2386','Yongju','KOR','Kyongsangbuk','131097'),('2387','Chinhae','KOR','Kyongsangnam','125997'),('2388','Sangju','KOR','Kyongsangbuk','124116'),\n",
    "('2406','Herakleion','GRC','Crete','116178'),('2440','Monrovia','LBR','Montserrado','850000'),('2462','Lilongwe','MWI','Lilongwe','435964'),\n",
    "('2505','Taza','MAR','Taza-Al Hoceima-Taou','92700'),('2555','Xalapa','MEX','Veracruz','390058'),('2602','Ocosingo','MEX','Chiapas','171495'),\n",
    "('2609','Nogales','MEX','Sonora','159103'),('2670','San Pedro Cholula','MEX','Puebla','99734'),('2689','Palikir','FSM','Pohnpei','8600'),\n",
    "('2706','Tete','MOZ','Tete','101984'),('2716','Sittwe (Akyab)','MMR','Rakhine','137600'),('2922','Carolina','PRI','Carolina','186076'),\n",
    "('2967','Grudziadz','POL','Kujawsko-Pomorskie','102434'),('2972','Malabo','GNQ','Bioko','40000'),('3073','Essen','DEU','Nordrhein-Westfalen','599515'),\n",
    "('3169','Apia','WSM','Upolu','35900'),('3198','Dakar','SEN','Cap-Vert','785071'),('3253','Hama','SYR','Hama','343361'),\n",
    "('3288','Luchou','TWN','Taipei','160516'),('3309','Tanga','TZA','Tanga','137400'),('3353','Sousse','TUN','Sousse','145900'),\n",
    "('3377','Kahramanmaras','TUR','Kahramanmaras','245772'),('3430','Odesa','UKR','Odesa','1011000'),('3581','St Petersburg','RUS','Pietari','4694000'),\n",
    "('3770','Hanoi','VNM','Hanoi','1410000'),('3815','El Paso','USA','Texas','563662'),('3878','Scottsdale','USA','Arizona','202705'),('3965','Corona','USA','California','124966'),\n",
    "('3973','Concord','USA','California','121780'),('3977','Cedar Rapids','USA','Iowa','120758'),('3982','Coral Springs','USA','Florida','117549'),\n",
    "('4054','Fairfield','USA','California','92256'),('4058','Boulder','USA','Colorado','91238'),('4061','Fall River','USA','Massachusetts','90555')\n",
    ";\n",
    "\n",
    "select name from city where countrycode=\"USA\" and population>120000;"
   ]
  },
  {
   "cell_type": "markdown",
   "id": "7498e793",
   "metadata": {},
   "source": [
    "# Q3. Query all columns (attributes) for every row in the CITY table."
   ]
  },
  {
   "cell_type": "code",
   "execution_count": null,
   "id": "2e1a9e09",
   "metadata": {},
   "outputs": [],
   "source": [
    "create table city\n",
    "( id int,\n",
    "name varchar(17),\n",
    "countrycode varchar(3),\n",
    "district varchar(20),\n",
    "population int);\n",
    "\n",
    "insert into city values ('6','Rotterdam','NLD','Zuid-Holland','593321'),('19','Zaanstad','NLD','Noord-Holland','135621'),\n",
    "('214','Porto Alegre','BRA','Rio Grande do Sul','1314032'),('397','Lauro de Freitas','BRA','Bahia','109236'),('547','Dobric','BGR','Varna','100399'), \n",
    "('552','Bujumbura','BDI','Bujumbura','300000'),('554','Santiago de Chile','CHL','Santiago','4703954'),('626','al-Minya','EGY','al-Minya','201360'),\n",
    "('646','Santa Ana','SLV','Santa Ana','139389'),('762','Bahir','Dar','ETH Amhara','96140'),('796','Baguio','PHL','CAR','252386'),\n",
    "('896','Malungon','PHL','Southern Mindanao','93232'),('904','Banjul','GMB','Banjul','42326'),('924','Villa','GTM','Nueva','101295'),\n",
    "('990','Waru','IDN','East Java','124300'),('1155','Latur','IND','Maharashtra','197408'),('1222','Tenali','IND','Andhra Pradesh','143726'),\n",
    "('1235','Tirunelveli','IND','Tamil Nadu','135825'),('1256','Alandur','IND','Tamil Nadu','125244'),\n",
    "('1279','Neyveli','IND','Tamil Nadu','118080'),('1293','Pallavaram','IND','Tamil Nadu','111866'),('1350','Dehri','IND','Bihar','94526'),\n",
    "('1383','Tabriz','IRN','East Azerbaidzan','1191043'),('1385','Karaj','IRN','Teheran','940968'),('1508','Bolzano','ITA','Trentino-Alto Adige','97232'),\n",
    "('1520','Cesena','ITA','Emilia-Romagna','89852'),('1613','Neyagawa','JPN','Osaka','257315'),('1630','Ageo','JPN','Saitama','209442'),\n",
    "('1661','Sayama','JPN','Saitama','162472'),('1681','Omuta','JPN','Fukuoka','142889'),('1739','Tokuyama','JPN','Yamaguchi','107078'),\n",
    "('1793','Novi Sad','YUG','Vojvodina','179626'),('1857','Kelowna','CAN','British Colombia','89442'),('1895','Harbin','CHN','Heilongjiang','4289800'),\n",
    "('1900','Changchun','CHN','Jilin','2812000'),('1913','Lanzhou','CHN','Gansu','1565800'),('1947','Changzhou','CHN','Jiangsu','530000'),\n",
    "('2070','Dezhou','CHN','Shandong','195485'),('2081','Heze','CHN','Shandong','189293'),('2111','Chenzhou','CHN','Hunan','169400'),\n",
    "('2153','Xianning','CHN','Hubei','136811'),('2192','Lhasa','CHN','Tibet','120000'),('2193','Lianyuan','CHN','Hunan','118858'),\n",
    "('2227','Xingcheng','CHN','Liaoning','102384'),('2273','Villavicencio','COL','Meta','273140'),('2384','Tong-yong','KOR','Kyongsangnam','131717'),\n",
    "('2386','Yongju','KOR','Kyongsangbuk','131097'),('2387','Chinhae','KOR','Kyongsangnam','125997'),('2388','Sangju','KOR','Kyongsangbuk','124116'),\n",
    "('2406','Herakleion','GRC','Crete','116178'),('2440','Monrovia','LBR','Montserrado','850000'),('2462','Lilongwe','MWI','Lilongwe','435964'),\n",
    "('2505','Taza','MAR','Taza-Al Hoceima-Taou','92700'),('2555','Xalapa','MEX','Veracruz','390058'),('2602','Ocosingo','MEX','Chiapas','171495'),\n",
    "('2609','Nogales','MEX','Sonora','159103'),('2670','San Pedro Cholula','MEX','Puebla','99734'),('2689','Palikir','FSM','Pohnpei','8600'),\n",
    "('2706','Tete','MOZ','Tete','101984'),('2716','Sittwe (Akyab)','MMR','Rakhine','137600'),('2922','Carolina','PRI','Carolina','186076'),\n",
    "('2967','Grudziadz','POL','Kujawsko-Pomorskie','102434'),('2972','Malabo','GNQ','Bioko','40000'),('3073','Essen','DEU','Nordrhein-Westfalen','599515'),\n",
    "('3169','Apia','WSM','Upolu','35900'),('3198','Dakar','SEN','Cap-Vert','785071'),('3253','Hama','SYR','Hama','343361'),\n",
    "('3288','Luchou','TWN','Taipei','160516'),('3309','Tanga','TZA','Tanga','137400'),('3353','Sousse','TUN','Sousse','145900'),\n",
    "('3377','Kahramanmaras','TUR','Kahramanmaras','245772'),('3430','Odesa','UKR','Odesa','1011000'),('3581','St Petersburg','RUS','Pietari','4694000'),\n",
    "('3770','Hanoi','VNM','Hanoi','1410000'),('3815','El Paso','USA','Texas','563662'),('3878','Scottsdale','USA','Arizona','202705'),('3965','Corona','USA','California','124966'),\n",
    "('3973','Concord','USA','California','121780'),('3977','Cedar Rapids','USA','Iowa','120758'),('3982','Coral Springs','USA','Florida','117549'),\n",
    "('4054','Fairfield','USA','California','92256'),('4058','Boulder','USA','Colorado','91238'),('4061','Fall River','USA','Massachusetts','90555')\n",
    ";\n",
    "\n",
    "select * from city; # limit=50"
   ]
  },
  {
   "cell_type": "markdown",
   "id": "5d8bd77d",
   "metadata": {},
   "source": [
    "# Q4. Query all columns for a city in CITY with the ID 1661."
   ]
  },
  {
   "cell_type": "code",
   "execution_count": null,
   "id": "d83ac301",
   "metadata": {},
   "outputs": [],
   "source": [
    "create table city\n",
    "( id int,\n",
    "name varchar(17),\n",
    "countrycode varchar(3),\n",
    "district varchar(20),\n",
    "population int);\n",
    "\n",
    "insert into city values ('6','Rotterdam','NLD','Zuid-Holland','593321'),('19','Zaanstad','NLD','Noord-Holland','135621'),\n",
    "('214','Porto Alegre','BRA','Rio Grande do Sul','1314032'),('397','Lauro de Freitas','BRA','Bahia','109236'),('547','Dobric','BGR','Varna','100399'), \n",
    "('552','Bujumbura','BDI','Bujumbura','300000'),('554','Santiago de Chile','CHL','Santiago','4703954'),('626','al-Minya','EGY','al-Minya','201360'),\n",
    "('646','Santa Ana','SLV','Santa Ana','139389'),('762','Bahir','Dar','ETH Amhara','96140'),('796','Baguio','PHL','CAR','252386'),\n",
    "('896','Malungon','PHL','Southern Mindanao','93232'),('904','Banjul','GMB','Banjul','42326'),('924','Villa','GTM','Nueva','101295'),\n",
    "('990','Waru','IDN','East Java','124300'),('1155','Latur','IND','Maharashtra','197408'),('1222','Tenali','IND','Andhra Pradesh','143726'),\n",
    "('1235','Tirunelveli','IND','Tamil Nadu','135825'),('1256','Alandur','IND','Tamil Nadu','125244'),\n",
    "('1279','Neyveli','IND','Tamil Nadu','118080'),('1293','Pallavaram','IND','Tamil Nadu','111866'),('1350','Dehri','IND','Bihar','94526'),\n",
    "('1383','Tabriz','IRN','East Azerbaidzan','1191043'),('1385','Karaj','IRN','Teheran','940968'),('1508','Bolzano','ITA','Trentino-Alto Adige','97232'),\n",
    "('1520','Cesena','ITA','Emilia-Romagna','89852'),('1613','Neyagawa','JPN','Osaka','257315'),('1630','Ageo','JPN','Saitama','209442'),\n",
    "('1661','Sayama','JPN','Saitama','162472'),('1681','Omuta','JPN','Fukuoka','142889'),('1739','Tokuyama','JPN','Yamaguchi','107078'),\n",
    "('1793','Novi Sad','YUG','Vojvodina','179626'),('1857','Kelowna','CAN','British Colombia','89442'),('1895','Harbin','CHN','Heilongjiang','4289800'),\n",
    "('1900','Changchun','CHN','Jilin','2812000'),('1913','Lanzhou','CHN','Gansu','1565800'),('1947','Changzhou','CHN','Jiangsu','530000'),\n",
    "('2070','Dezhou','CHN','Shandong','195485'),('2081','Heze','CHN','Shandong','189293'),('2111','Chenzhou','CHN','Hunan','169400'),\n",
    "('2153','Xianning','CHN','Hubei','136811'),('2192','Lhasa','CHN','Tibet','120000'),('2193','Lianyuan','CHN','Hunan','118858'),\n",
    "('2227','Xingcheng','CHN','Liaoning','102384'),('2273','Villavicencio','COL','Meta','273140'),('2384','Tong-yong','KOR','Kyongsangnam','131717'),\n",
    "('2386','Yongju','KOR','Kyongsangbuk','131097'),('2387','Chinhae','KOR','Kyongsangnam','125997'),('2388','Sangju','KOR','Kyongsangbuk','124116'),\n",
    "('2406','Herakleion','GRC','Crete','116178'),('2440','Monrovia','LBR','Montserrado','850000'),('2462','Lilongwe','MWI','Lilongwe','435964'),\n",
    "('2505','Taza','MAR','Taza-Al Hoceima-Taou','92700'),('2555','Xalapa','MEX','Veracruz','390058'),('2602','Ocosingo','MEX','Chiapas','171495'),\n",
    "('2609','Nogales','MEX','Sonora','159103'),('2670','San Pedro Cholula','MEX','Puebla','99734'),('2689','Palikir','FSM','Pohnpei','8600'),\n",
    "('2706','Tete','MOZ','Tete','101984'),('2716','Sittwe (Akyab)','MMR','Rakhine','137600'),('2922','Carolina','PRI','Carolina','186076'),\n",
    "('2967','Grudziadz','POL','Kujawsko-Pomorskie','102434'),('2972','Malabo','GNQ','Bioko','40000'),('3073','Essen','DEU','Nordrhein-Westfalen','599515'),\n",
    "('3169','Apia','WSM','Upolu','35900'),('3198','Dakar','SEN','Cap-Vert','785071'),('3253','Hama','SYR','Hama','343361'),\n",
    "('3288','Luchou','TWN','Taipei','160516'),('3309','Tanga','TZA','Tanga','137400'),('3353','Sousse','TUN','Sousse','145900'),\n",
    "('3377','Kahramanmaras','TUR','Kahramanmaras','245772'),('3430','Odesa','UKR','Odesa','1011000'),('3581','St Petersburg','RUS','Pietari','4694000'),\n",
    "('3770','Hanoi','VNM','Hanoi','1410000'),('3815','El Paso','USA','Texas','563662'),('3878','Scottsdale','USA','Arizona','202705'),('3965','Corona','USA','California','124966'),\n",
    "('3973','Concord','USA','California','121780'),('3977','Cedar Rapids','USA','Iowa','120758'),('3982','Coral Springs','USA','Florida','117549'),\n",
    "('4054','Fairfield','USA','California','92256'),('4058','Boulder','USA','Colorado','91238'),('4061','Fall River','USA','Massachusetts','90555')\n",
    ";\n",
    "\n",
    "select * from city where id=1661;"
   ]
  },
  {
   "cell_type": "markdown",
   "id": "45718b23",
   "metadata": {},
   "source": [
    "# Q5. Query all attributes of every Japanese city in the CITY table. The COUNTRYCODE for Japan is JPN."
   ]
  },
  {
   "cell_type": "code",
   "execution_count": null,
   "id": "5f223dd5",
   "metadata": {},
   "outputs": [],
   "source": [
    "create table city\n",
    "( id int,\n",
    "name varchar(17),\n",
    "countrycode varchar(3),\n",
    "district varchar(20),\n",
    "population int);\n",
    "\n",
    "insert into city values ('6','Rotterdam','NLD','Zuid-Holland','593321'),('19','Zaanstad','NLD','Noord-Holland','135621'),\n",
    "('214','Porto Alegre','BRA','Rio Grande do Sul','1314032'),('397','Lauro de Freitas','BRA','Bahia','109236'),('547','Dobric','BGR','Varna','100399'), \n",
    "('552','Bujumbura','BDI','Bujumbura','300000'),('554','Santiago de Chile','CHL','Santiago','4703954'),('626','al-Minya','EGY','al-Minya','201360'),\n",
    "('646','Santa Ana','SLV','Santa Ana','139389'),('762','Bahir','Dar','ETH Amhara','96140'),('796','Baguio','PHL','CAR','252386'),\n",
    "('896','Malungon','PHL','Southern Mindanao','93232'),('904','Banjul','GMB','Banjul','42326'),('924','Villa','GTM','Nueva','101295'),\n",
    "('990','Waru','IDN','East Java','124300'),('1155','Latur','IND','Maharashtra','197408'),('1222','Tenali','IND','Andhra Pradesh','143726'),\n",
    "('1235','Tirunelveli','IND','Tamil Nadu','135825'),('1256','Alandur','IND','Tamil Nadu','125244'),\n",
    "('1279','Neyveli','IND','Tamil Nadu','118080'),('1293','Pallavaram','IND','Tamil Nadu','111866'),('1350','Dehri','IND','Bihar','94526'),\n",
    "('1383','Tabriz','IRN','East Azerbaidzan','1191043'),('1385','Karaj','IRN','Teheran','940968'),('1508','Bolzano','ITA','Trentino-Alto Adige','97232'),\n",
    "('1520','Cesena','ITA','Emilia-Romagna','89852'),('1613','Neyagawa','JPN','Osaka','257315'),('1630','Ageo','JPN','Saitama','209442'),\n",
    "('1661','Sayama','JPN','Saitama','162472'),('1681','Omuta','JPN','Fukuoka','142889'),('1739','Tokuyama','JPN','Yamaguchi','107078'),\n",
    "('1793','Novi Sad','YUG','Vojvodina','179626'),('1857','Kelowna','CAN','British Colombia','89442'),('1895','Harbin','CHN','Heilongjiang','4289800'),\n",
    "('1900','Changchun','CHN','Jilin','2812000'),('1913','Lanzhou','CHN','Gansu','1565800'),('1947','Changzhou','CHN','Jiangsu','530000'),\n",
    "('2070','Dezhou','CHN','Shandong','195485'),('2081','Heze','CHN','Shandong','189293'),('2111','Chenzhou','CHN','Hunan','169400'),\n",
    "('2153','Xianning','CHN','Hubei','136811'),('2192','Lhasa','CHN','Tibet','120000'),('2193','Lianyuan','CHN','Hunan','118858'),\n",
    "('2227','Xingcheng','CHN','Liaoning','102384'),('2273','Villavicencio','COL','Meta','273140'),('2384','Tong-yong','KOR','Kyongsangnam','131717'),\n",
    "('2386','Yongju','KOR','Kyongsangbuk','131097'),('2387','Chinhae','KOR','Kyongsangnam','125997'),('2388','Sangju','KOR','Kyongsangbuk','124116'),\n",
    "('2406','Herakleion','GRC','Crete','116178'),('2440','Monrovia','LBR','Montserrado','850000'),('2462','Lilongwe','MWI','Lilongwe','435964'),\n",
    "('2505','Taza','MAR','Taza-Al Hoceima-Taou','92700'),('2555','Xalapa','MEX','Veracruz','390058'),('2602','Ocosingo','MEX','Chiapas','171495'),\n",
    "('2609','Nogales','MEX','Sonora','159103'),('2670','San Pedro Cholula','MEX','Puebla','99734'),('2689','Palikir','FSM','Pohnpei','8600'),\n",
    "('2706','Tete','MOZ','Tete','101984'),('2716','Sittwe (Akyab)','MMR','Rakhine','137600'),('2922','Carolina','PRI','Carolina','186076'),\n",
    "('2967','Grudziadz','POL','Kujawsko-Pomorskie','102434'),('2972','Malabo','GNQ','Bioko','40000'),('3073','Essen','DEU','Nordrhein-Westfalen','599515'),\n",
    "('3169','Apia','WSM','Upolu','35900'),('3198','Dakar','SEN','Cap-Vert','785071'),('3253','Hama','SYR','Hama','343361'),\n",
    "('3288','Luchou','TWN','Taipei','160516'),('3309','Tanga','TZA','Tanga','137400'),('3353','Sousse','TUN','Sousse','145900'),\n",
    "('3377','Kahramanmaras','TUR','Kahramanmaras','245772'),('3430','Odesa','UKR','Odesa','1011000'),('3581','St Petersburg','RUS','Pietari','4694000'),\n",
    "('3770','Hanoi','VNM','Hanoi','1410000'),('3815','El Paso','USA','Texas','563662'),('3878','Scottsdale','USA','Arizona','202705'),('3965','Corona','USA','California','124966'),\n",
    "('3973','Concord','USA','California','121780'),('3977','Cedar Rapids','USA','Iowa','120758'),('3982','Coral Springs','USA','Florida','117549'),\n",
    "('4054','Fairfield','USA','California','92256'),('4058','Boulder','USA','Colorado','91238'),('4061','Fall River','USA','Massachusetts','90555')\n",
    ";\n",
    "\n",
    "select * from city where countrycode=\"JPN\";"
   ]
  },
  {
   "cell_type": "markdown",
   "id": "af809e44",
   "metadata": {},
   "source": [
    "# Q6. Query the names of all the Japanese cities in the CITY table. The COUNTRYCODE for Japan is JPN."
   ]
  },
  {
   "cell_type": "code",
   "execution_count": null,
   "id": "8b22f9fe",
   "metadata": {},
   "outputs": [],
   "source": [
    "create table city\n",
    "( id int,\n",
    "name varchar(17),\n",
    "countrycode varchar(3),\n",
    "district varchar(20),\n",
    "population int);\n",
    "\n",
    "insert into city values ('6','Rotterdam','NLD','Zuid-Holland','593321'),('19','Zaanstad','NLD','Noord-Holland','135621'),\n",
    "('214','Porto Alegre','BRA','Rio Grande do Sul','1314032'),('397','Lauro de Freitas','BRA','Bahia','109236'),('547','Dobric','BGR','Varna','100399'), \n",
    "('552','Bujumbura','BDI','Bujumbura','300000'),('554','Santiago de Chile','CHL','Santiago','4703954'),('626','al-Minya','EGY','al-Minya','201360'),\n",
    "('646','Santa Ana','SLV','Santa Ana','139389'),('762','Bahir','Dar','ETH Amhara','96140'),('796','Baguio','PHL','CAR','252386'),\n",
    "('896','Malungon','PHL','Southern Mindanao','93232'),('904','Banjul','GMB','Banjul','42326'),('924','Villa','GTM','Nueva','101295'),\n",
    "('990','Waru','IDN','East Java','124300'),('1155','Latur','IND','Maharashtra','197408'),('1222','Tenali','IND','Andhra Pradesh','143726'),\n",
    "('1235','Tirunelveli','IND','Tamil Nadu','135825'),('1256','Alandur','IND','Tamil Nadu','125244'),\n",
    "('1279','Neyveli','IND','Tamil Nadu','118080'),('1293','Pallavaram','IND','Tamil Nadu','111866'),('1350','Dehri','IND','Bihar','94526'),\n",
    "('1383','Tabriz','IRN','East Azerbaidzan','1191043'),('1385','Karaj','IRN','Teheran','940968'),('1508','Bolzano','ITA','Trentino-Alto Adige','97232'),\n",
    "('1520','Cesena','ITA','Emilia-Romagna','89852'),('1613','Neyagawa','JPN','Osaka','257315'),('1630','Ageo','JPN','Saitama','209442'),\n",
    "('1661','Sayama','JPN','Saitama','162472'),('1681','Omuta','JPN','Fukuoka','142889'),('1739','Tokuyama','JPN','Yamaguchi','107078'),\n",
    "('1793','Novi Sad','YUG','Vojvodina','179626'),('1857','Kelowna','CAN','British Colombia','89442'),('1895','Harbin','CHN','Heilongjiang','4289800'),\n",
    "('1900','Changchun','CHN','Jilin','2812000'),('1913','Lanzhou','CHN','Gansu','1565800'),('1947','Changzhou','CHN','Jiangsu','530000'),\n",
    "('2070','Dezhou','CHN','Shandong','195485'),('2081','Heze','CHN','Shandong','189293'),('2111','Chenzhou','CHN','Hunan','169400'),\n",
    "('2153','Xianning','CHN','Hubei','136811'),('2192','Lhasa','CHN','Tibet','120000'),('2193','Lianyuan','CHN','Hunan','118858'),\n",
    "('2227','Xingcheng','CHN','Liaoning','102384'),('2273','Villavicencio','COL','Meta','273140'),('2384','Tong-yong','KOR','Kyongsangnam','131717'),\n",
    "('2386','Yongju','KOR','Kyongsangbuk','131097'),('2387','Chinhae','KOR','Kyongsangnam','125997'),('2388','Sangju','KOR','Kyongsangbuk','124116'),\n",
    "('2406','Herakleion','GRC','Crete','116178'),('2440','Monrovia','LBR','Montserrado','850000'),('2462','Lilongwe','MWI','Lilongwe','435964'),\n",
    "('2505','Taza','MAR','Taza-Al Hoceima-Taou','92700'),('2555','Xalapa','MEX','Veracruz','390058'),('2602','Ocosingo','MEX','Chiapas','171495'),\n",
    "('2609','Nogales','MEX','Sonora','159103'),('2670','San Pedro Cholula','MEX','Puebla','99734'),('2689','Palikir','FSM','Pohnpei','8600'),\n",
    "('2706','Tete','MOZ','Tete','101984'),('2716','Sittwe (Akyab)','MMR','Rakhine','137600'),('2922','Carolina','PRI','Carolina','186076'),\n",
    "('2967','Grudziadz','POL','Kujawsko-Pomorskie','102434'),('2972','Malabo','GNQ','Bioko','40000'),('3073','Essen','DEU','Nordrhein-Westfalen','599515'),\n",
    "('3169','Apia','WSM','Upolu','35900'),('3198','Dakar','SEN','Cap-Vert','785071'),('3253','Hama','SYR','Hama','343361'),\n",
    "('3288','Luchou','TWN','Taipei','160516'),('3309','Tanga','TZA','Tanga','137400'),('3353','Sousse','TUN','Sousse','145900'),\n",
    "('3377','Kahramanmaras','TUR','Kahramanmaras','245772'),('3430','Odesa','UKR','Odesa','1011000'),('3581','St Petersburg','RUS','Pietari','4694000'),\n",
    "('3770','Hanoi','VNM','Hanoi','1410000'),('3815','El Paso','USA','Texas','563662'),('3878','Scottsdale','USA','Arizona','202705'),('3965','Corona','USA','California','124966'),\n",
    "('3973','Concord','USA','California','121780'),('3977','Cedar Rapids','USA','Iowa','120758'),('3982','Coral Springs','USA','Florida','117549'),\n",
    "('4054','Fairfield','USA','California','92256'),('4058','Boulder','USA','Colorado','91238'),('4061','Fall River','USA','Massachusetts','90555')\n",
    ";\n",
    "select name from city where countrycode=\"JPN\"; "
   ]
  },
  {
   "cell_type": "markdown",
   "id": "e656f7df",
   "metadata": {},
   "source": [
    "# Q7. Query a list of CITY and STATE from the STATION table."
   ]
  },
  {
   "cell_type": "code",
   "execution_count": null,
   "id": "e716c891",
   "metadata": {},
   "outputs": [],
   "source": [
    "create table Station\n",
    "( id numeric,\n",
    "city VARCHAR(21),\n",
    "state varchar(2),\n",
    "LAT_N numeric,\n",
    "LONG_W numeric\n",
    ");\n",
    "\n",
    "insert into Station values (794,\"Kissee Mills\",\"MO\",139,73),(824,\"Loma Mar\",\"CA\",48,130),(603,'Sandy Hook','CT',72,148),(478,'Tipton','IN',33,97),\n",
    "(619,'Arlington','CO',75,92),(711,'Turner','AR',50,101),(839,'Slidell','LA',85,151),(411,'Negreet','LA',98,105),\n",
    "(588,'Glencoe','KY',46,136),(665,'Chelsea','IA',98,59),(342,'Chignik Lagoon','AK',103,153),(733,'Pelahatchie','MS',38,28),(441,'Hanna City','IL',50,136),\n",
    "(811,'Dorrance','KS',102,121),(698,'Albany','CA',49,80),(325,'Monument','KS',70,141),(414,'Manchester','MD',73,37),(414,'Manchester','MD',73,37),\n",
    "(113,'Prescott','IA',39,65),(971,'Graettinger','IA',94,150),(266,'Cahone','CO',116,127),(617,'Sturgis','MS',36,126),(495,'Upperco','MD',114,29),\n",
    "(473,'Highwood','IL',27,150),(959,'Waipahu','HI',106,33),(438,'Bowdon','GA',88,78),(571,'Tyler','MN',133,58),(92,'Watkins','CO',83,96),\n",
    "(399,'Republic','MI',75,130),(426,'Millville','CA',32,145),(844,'Aguanga','CA',79,65),(321,'Bowdon Junction','GA',85,33),(606,'Morenci','AZ',104,110),\n",
    "(957,'South El Monte','CA',74,79),(833,'Hoskinston','KY',65,65),(843,'Talbert','KY',39,58),(166,'Mccomb','MS',74,42),(339,'Kirk','CO',141,136),\n",
    "(909,'Carlock','IL',117,84),(829,'Seward','IL',72,90),(766,'Gustine','CA',111,140),(392,'Delano','CA',126,91),(555,'Westphalia','MI',32,143),\n",
    "(33,'Saint Elmo','AL',27,50),(728,'Roy','MT',41,51),(656,'Pattonsburg','MO',138,32),(394,'Centertown','MO',133,93),(366,'Norvell','MI',125,93),\n",
    "(96,'Raymondville','MO',70,148),(867,'Beaver Island','MI',81,164),(977,'Odin','IL',53,115),(741,'Jemison','AL',62,25),(436,'West Hills','CA',68,73),\n",
    "(323,'Barrigada','GU',60,147),(3,'Hesperia','CA',106,71),(814,'Wickliffe','KY',80,46),(375,'Culdesac','ID',47,78),(467,'Roselawn','IN',87,51),\n",
    "(604,'Forest Lakes','AZ',144,114),(551,'San Simeon','CA',37,28),(706,'Little Rock','AR',122,121),(647,'Portland','AR',83,44),(25,'New Century','KS',135,79),\n",
    "(250,'Hampden','MA',76,26),(124,'Pine City','MN',119,129),(547,'Sandborn','IN',55,93),(701,'Seaton','IL',128,78),(197,'Milledgeville','IL',90,113),\n",
    "(613,'East China','MI',108,42),(630,'Prince Frederick','MD',104,57),(767,'Pomona Park','FL',100,163),(679,'Gretna','LA',75,142),(896,'Yazoo City','MS',95,85),\n",
    "(403,'Zionsville','IN',57,36),(519,'Rio Oso','CA',29,105),(482,'Jolon','CA',66,52),(252,'Childs','MD',92,104),(600,'Shreveport','LA',136,38),\n",
    "(14,'Forest','MS',120,50),(260,'Sizerock','KY',116,112),(65,'Buffalo Creek','CO',47,148),(753,'Algonac','MI',118,80),(174,'Onaway','MI',108,55),\n",
    "(263,'Irvington','IL',96,68),(253,'Winsted','MN',68,72),(557,'Woodbury','GA',102,93),(897,'Samantha','AL',75,35),(98,'Hackleburg','AL',119,120),\n",
    "(423,'Soldier','KS',77,152),(361,'Arrowsmith','IL',28,109),(409,'Columbus','GA',67,46),(312,'Bentonville','AR',36,78),(854,'Kirkland','AZ',86,57),\n",
    "(160,'Grosse Pointe','MI',102,91),(735,'Wilton','ME',56,157),(608,'Busby','MT',104,29),(122,'Robertsdale','AL',97,85),(93,'Dale','IN',69,34),\n",
    "(67,'Reeds','MO',30,42),(906,'Hayfork','CA',35,116),(34,'Mcbrides','MI',74,35),(921,'Lee Center','IL',95,77),(401,'Tennessee','IL',55,155),\n",
    "(536,'Henderson','IA',77,77),(953,'Udall','KS',112,59),(370,'Palm Desert','CA',106,145),(614,'Benedict','KS',138,95),(998,'Oakfield','ME',47,132),\n",
    "(805,'Tamms','IL',59,75),(235,'Haubstadt','IN',27,32),(820,'Chokio','MN',81,134),(650,'Clancy','MT',45,164),(791,'Scotts Valley','CA',119,90),\n",
    "(324,'Norwood','MN',144,34),(442,'Elkton','MD',103,156),(633,'Bertha','MN',39,105),(109,'Bridgeport','MI',50,79),(780,'Cherry','IL',68,46),\n",
    "(492,'Regina','KY',131,90),(965,'Griffin','GA',38,151),(778,'Pine Bluff','AR',60,145),(337,'Mascotte','FL',121,146),(259,'Baldwin','MD',81,40),\n",
    "(955,'Netawaka','KS',109,119),(752,'East Irvine','CA',106,115),(886,'Pony','MT',99,162),(200,'Franklin','LA',82,31),(384,'Amo','IN',103,159),\n",
    "(518,'Vulcan','MO',108,91),(188,'Prairie Du Rocher','IL',75,70),(161,'Alanson','MI',90,72),(486,'Delta','LA',136,49),(406,'Carver','MN',45,122),\n",
    "(940,'Paron','AR',59,104),(237,'Winchester','ID',38,80),(465,'Jerome','AZ',121,34),(591,'Baton Rouge','LA',129,71),(570,'Greenview','CA',80,57),(429,'Lucerne Valley','CA',35,48),\n",
    "(278,'Cromwell','MN',128,53),(927,'Quinter','KS',59,25),(59,'Whitewater','MO',82,71),(218,'Round Pond','ME',127,124),(291,'Clarkdale','AZ',58,73),(668,'Rockton','IL',116,86),\n",
    "(682,'Pheba','MS',90,127),(775,'Eleele','HI',80,152),(527,'Auburn','IA',95,137),(108,'North Berwick','ME',70,27),(190,'Oconee','GA',92,119),(232,'Grandville','MI',38,70),\n",
    "(405,'Susanville','CA',128,80),(273,'Rosie','AR',72,161),(813,'Verona','MO',109,152),(444,'Richland','GA',105,113),(899,'Fremont','MI',54,150),(738,'Philipsburg','MT',95,72),\n",
    "(215,'Kensett','IA',55,139),(743,'De Tour Village','MI',25,25),(377,'Koleen','IN',137,110),(727,'Winslow','IL',113,38),(363,'Reasnor','IA',41,162),(117,'West Grove','IA',127,99),(420,'Frankfort Heights','IL',71,30),\n",
    "(888,'Bono','AR',133,150),(784,'Biggsville','IL',85,138),(413,'Linthicum Heights','MD',127,67),(695,'Amazonia','MO',45,148),(609,'Marysville','MI',85,132),\n",
    "(471,'Cape Girardeau','MO',73,90),(649,'Pengilly','MN',25,154),(946,'Newton Center','MA',48,144),(380,'Crane Lake','MN',72,43),(383,'Newbury','MA',128,85),\n",
    "(44,'Kismet','KS',99,156),(433,'Canton','ME',98,105),(283,'Clipper Mills','CA',113,56),(474,'Grayslake','IL',61,33),(233,'Pierre Part','LA',52,90),\n",
    "(990,'Bison','KS',132,74),(502,'Bellevue','KY',127,121),(327,'Ridgway','CO',77,110),(4,'South Britain','CT',65,33),(228,'Rydal','GA',35,78),(642,'Lynnville','KY',25,146),\n",
    "(885,'Deerfield','MO',40,35),(539,'Montreal','MO',129,127),(202,'Hope','MN',140,43),(593,'Aliso Viejo','CA',67,131),(521,'Gowrie','IA',130,127),(938,'Andersonville','GA',141,72),\n",
    "(919,'Knob Lick','KY',135,33),(528,'Crouseville','ME',36,81),(331,'Cranks','KY',55,27),(45,'Rives Junction','MI',94,116),(944,'Ledyard','CT',134,143),(949,'Norway','ME',83,88),\n",
    "(88,'Eros','LA',95,58),(878,'Rantoul','KS',31,118),(35,'Richmond Hill','GA',39,113),(17,'Fredericktown','MO',105,112),(447,'Arkadelphia','AR',98,49),(498,'Glen Carbon','IL',60,140),\n",
    "(351,'Fredericksburg','IN',44,78),(774,'Manchester','IA',129,123),(116,'Mc Henry','MD',93,112),(963,'Eriline','KY',93,65),(643,'Wellington','KY',100,31),(781,'Hoffman Estates','IL',129,53),\n",
    "(364,'Howard Lake','MN',125,78),(777,'Edgewater','MD',130,72),(15,'Ducor','CA',140,102),(910,'Salem','KY',86,113),(612,'Sturdivant','MO',93,86),(537,'Hagatna','GU',97,151),\n",
    "(970,'East Haddam','CT',115,132),(510,'Eastlake','MI',134,38),(354,'Larkspur','CA',107,65),(983,'Patriot','IN',82,46),(799,'Corriganville','MD',141,153),\n",
    "(581,'Carlos','MN',114,66),(825,'Addison','MI',96,142),(526,'Tarzana','CA',135,81),(176,'Grapevine','AR',92,84),(994,'Kanorado','KS',65,85),(704,'Climax','MI',127,107),\n",
    "(582,'Curdsville','KY',84,150),(884,'Southport','CT',59,63),(196,'Compton','IL',106,99),(605,'Notasulga','AL',66,115),(430,'Rumsey','KY',70,50),(234,'Rogers','CT',140,33),\n",
    "(700,'Pleasant Grove','AR',135,145),(702,'Everton','MO',119,51),(662,'Skanee','MI',70,129),(171,'Springerville','AZ',124,150),(615,'Libertytown','MD',144,111),\n",
    "(26,'Church Creek','MD',39,91),(692,'Yellow Pine','ID',83,150),(336,'Dumont','MN',57,129),(464,'Gales Ferry','CT',104,37),(315,'Ravenna','KY',79,106),\n",
    "(505,'Williams','AZ',73,111),(842,'Decatur','MI',63,161),(982,'Holbrook','AZ',134,103),(868,'Sherrill','AR',79,152),(554,'Brownsdale','MN',52,50),\n",
    "(199,'Linden','MI',53,32),(453,'Sedgwick','AR',68,75),(451,'Fort Atkinson','IA',142,140),(950,'Peachtree City','GA',80,155),(326,'Rocheport','MO',114,64),\n",
    "(189,'West Somerset','KY',73,45),(638,'Clovis','CA',92,138),(156,'Heyburn','ID',82,121),(861,'Peabody','KS',75,152),(722,'Marion Junction','AL',53,31),\n",
    "(428,'Randall','KS',47,135),(677,'Hayesville','IA',119,42),(183,'Jordan','MN',68,35),(322,'White Horse Beach','MA',54,59),(827,'Greenville','IL',50,153),\n",
    "(242,'Macy','IN',138,152),(621,'Flowood','MS',64,149),(960,'Deep River','IA',75,38),(180,'Napoleon','IN',32,160),(382,'Leavenworth','IN',100,121),(853,'Coldwater','KS',47,26),\n",
    "(105,'Weldon','CA',134,118),(357,'Yellville','AR',35,42),(710,'Turners Falls','MA',31,125),(520,'Delray Beach','FL',27,158),(920,'Eustis','FL',42,39),\n",
    "(684,'Mineral Point','MO',91,41),(355,'Weldona','CO',32,58),(389,'Midpines','CA',106,59),(303,'Cascade','ID',31,157),(501,'Tefft','IN',93,150),(673,'Showell','MD',44,163),\n",
    "(834,'Bayville','ME',106,143),(255,'Brighton','IL',107,32),(595,'Grimes','IA',42,74),(709,'Nubieber','CA',132,49),(100,'North Monmouth','ME',130,78),\n",
    "(522,'Harmony','MN',124,126),(16,'Beaufort','MO',71,85),(231,'Arispe','IA',31,137),(923,'Union Star','MO',79,132),(891,'Humeston','IA',74,122),(165,'Baileyville','IL',82,61),\n",
    "(757,'Lakeville','CT',59,94),(506,'Firebrick','KY',49,95),(76,'Pico Rivera','CA',143,116),(246,'Ludington','MI',30,120),(583,'Channing','MI',117,56),\n",
    "(666,'West Baden Springs','IN',30,96),(373,'Pawnee','IL',85,81),(504,'Melber','KY',37,55),(901,'Manchester','MN',71,84),(306,'Bainbridge','GA',62,56),\n",
    "(821,'Sanders','AZ',130,96),(586,'Ottertail','MN',100,44),(95,'Dupo','IL',41,29),(524,'Montrose','CA',136,119),(716,'Schleswig','IA',119,51),(849,'Harbor Springs','MI',141,148),\n",
    "(611,'Richmond','IL',113,163),(904,'Ermine','KY',119,62),(740,'Siler','KY',137,117),(439,'Reeves','LA',35,51),(57,'Clifton','AZ',30,135),(155,'Casco','MI',138,109),\n",
    "(755,'Sturgis','MI',117,135),(11,'Crescent City','FL',58,117),(287,'Madisonville','LA',112,53),(435,'Albion','IN',44,121),(672,'Lismore','MN',58,103),\n",
    "(572,'Athens','IN',75,120),(890,'Eufaula','AL',140,103),(975,'Panther Burn','MS',116,164),(914,'Hanscom Afb','MA',129,136),(119,'Wildie','KY',69,111),\n",
    "(540,'Mosca','CO',89,141),(678,'Bennington','IN',35,26),(208,'Lottie','LA',109,82),(512,'Garland','ME',108,134),(352,'Clutier','IA',61,127),(948,'Lupton','MI',139,53),\n",
    "(503,'Northfield','MN',61,37),(288,'Daleville','AL',121,136),(560,'Osage City','KS',110,89),(479,'Cuba','MO',63,87),(826,'Norris','MT',47,37),(651,'Clopton','AL',40,84),\n",
    "(143,'Renville','MN',142,99),(240,'Saint Paul','KS',66,163),(102,'Kirksville','MO',140,143),(69,'Kingsland','AR',78,85),(181,'Fairview','KS',80,164),(175,'Lydia','LA',41,39),\n",
    "(80,'Bridgton','ME',93,140),(596,'Brownstown','IL',48,63),(301,'Monona','IA',144,81),(987,'Hartland','MI',136,107),(973,'Andover','CT',51,52),(981,'Lakota','IA',56,92),\n",
    "(440,'Grand Terrace','CA',37,126),(110,'Mesick','MI',82,108),(396,'Dryden','MI',69,47),(637,'Beverly','KY',57,126),(566,'Marine On Saint Croix','MN',126,57),\n",
    "(801,'Pocahontas','IL',109,83),(739,'Fort Meade','FL',43,35),(130,'Hayneville','AL',109,157),(345,'Yoder','IN',83,143),(851,'Gatewood','MO',76,145),(489,'Madden','MS',81,99),\n",
    "(223,'Losantville','IN',112,106),(538,'Cheswold','DE',31,59),(329,'Caseville','MI',102,98),(815,'Pomona','MO',52,50),(789,'Hopkinsville','KY',27,47),\n",
    "(269,'Jack','AL',49,85),(969,'Dixie','GA',27,36),(271,'Hillside','CO',99,68),(667,'Hawarden','IA',90,46),(350,'Cannonsburg','MI',91,120),(49,'Osborne','KS',70,139),\n",
    "(332,'Elm Grove','LA',45,29),(172,'Atlantic Mine','MI',131,99),(699,'North Branford','CT',37,95),(417,'New Liberty','IA',139,94),(99,'Woodstock Valley','CT',117,162),\n",
    "(404,'Farmington','IL',91,72),(23,'Honolulu','HI',110,139),(1,'Pfeifer','KS',37,65),(127,'Oshtemo','MI',100,135),(657,'Gridley','KS',118,55),(261,'Fulton','KY',111,51),\n",
    "(182,'Winter Park','FL',133,32),(328,'Monroe','LA',28,108),(779,'Del Mar','CA',59,95),(646,'Greens Fork','IN',133,135),(756,'Garden City','AL',96,105),\n",
    "(157,'Blue River','KY',116,161),(400,'New Ross','IN',134,120),(61,'Brilliant','AL',86,159),(610,'Archie','MO',40,28),(985,'Winslow','AR',126,126),(207,'Olmitz','KS',29,38),\n",
    "(941,'Allerton','IA',61,112),(70,'Norphlet','AR',144,61),(343,'Mechanic Falls','ME',71,71),(531,'North Middletown','KY',42,141),(996,'Keyes','CA',76,85),\n",
    "(167,'Equality','AL',106,116),(750,'Neon','KY',101,147),(410,'Calhoun','KY',95,56),(725,'Alpine','AR',116,114),(988,'Mullan','ID',143,154),(55,'Coalgood','KY',57,149),\n",
    "(640,'Walnut','MS',40,76),(302,'Saint Petersburg','FL',51,119),(387,'Ojai','CA',68,119),(476,'Julian','CA',130,101),(907,'Veedersburg','IN',78,94),(294,'Orange Park','FL',59,137),\n",
    "(661,'Payson','AZ',126,154),(745,'Windom','KS',114,126),(631,'Urbana','IA',142,29),(356,'Ludlow','CA',110,87),(419,'Lindsay','MT',143,67),(494,'Palatka','FL',94,52),\n",
    "(625,'Bristol','ME',87,95),(459,'Harmony','IN',135,70),(636,'Ukiah','CA',86,89),(106,'Yuma','AZ',111,153),(204,'Alba','MI',91,103),(344,'Zachary','LA',60,152),\n",
    "(599,'Esmond','IL',75,90),(515,'Waresboro','GA',144,153),(497,'Hills','MN',137,134),(162,'Montgomery City','MO',70,44),(499,'Delavan','MN',32,64),(362,'Magnolia','MS',112,31),\n",
    "(545,'Byron','CA',136,120),(712,'Dundee','IA',61,105),(257,'Eureka Springs','AR',72,34),(154,'Baker','CA',31,148),(715,'Hyde Park','MA',65,156),(493,'Groveoak','AL',53,87),\n",
    "(836,'Kenner','LA',91,126),(82,'Many','LA',36,94),(644,'Seward','AK',120,35),(391,'Berryton','KS',60,139),(696,'Chilhowee','MO',79,49),(905,'Newark','IL',72,129),\n",
    "(81,'Cowgill','MO',136,27),(31,'Novinger','MO',108,111),(299,'Goodman','MS',101,117),(84,'Cobalt','CT',87,26),(754,'South Haven','MI',144,52),(144,'Eskridge','KS',107,63),\n",
    "(305,'Bennington','KS',93,83),(226,'Decatur','MS',71,117),(224,'West Hyannisport','MA',58,96),(694,'Ozona','FL',144,120),(623,'Jackson','AL',111,67),\n",
    "(543,'Lapeer','MI',128,114),(819,'Peaks Island','ME',59,110),(243,'Hazlehurst','MS',49,108),(457,'Chester','CA',69,123),(871,'Clarkston','MI',93,80),\n",
    "(470,'Healdsburg','CA',111,54),(705,'Hotchkiss','CO',69,71),(690,'Ravenden Springs','AR',67,108),(62,'Monroe','AR',131,150),(365,'Payson','IL',81,92),(922,'Kell','IL',70,58),\n",
    "(838,'Strasburg','CO',89,47),(286,'Five Points','AL',45,122),(968,'Norris City','IL',53,76),(928,'Coaling','AL',144,52),(746,'Orange City','IA',93,162),(892,'Effingham','KS',132,97),\n",
    "(193,'Corcoran','CA',81,139),(225,'Garden City','IA',54,119),(573,'Alton','MO',79,112),(830,'Greenway','AR',119,35),(241,'Woodsboro','MD',76,141),\n",
    "(783,'Strawn','IL',29,51),(675,'Dent','MN',70,136),(270,'Shingletown','CA',61,102),(378,'Clio','IA',46,115),(104,'Yalaha','FL',120,119),(460,'Leakesville','MS',107,72),\n",
    "(804,'Fort Lupton','CO',38,93),(53,'Shasta','CA',99,155),(448,'Canton','MN',123,151),(751,'Agency','MO',59,95),(29,'South Carrollton','KY',57,116),\n",
    "(718,'Taft','CA',107,146),(213,'Calpine','CA',46,43),(624,'Knobel','AR',95,62),(908,'Bullhead City','AZ',94,30),(845,'Tina','MO',131,28),(685,'Anthony','KS',45,161),(731,'Emmett','ID',57,31),\n",
    "(311,'South Haven','MN',30,87),(866,'Haverhill','IA',61,109),(598,'Middleboro','MA',108,149),(541,'Siloam','GA',105,92),(889,'Lena','LA',78,129),(654,'Lee','IL',27,51),(841,'Freeport','MI',113,50),\n",
    "(446,'Mid Florida','FL',110,50),(249,'Acme','LA',73,67),(376,'Gorham','KS',111,64),(136,'Bass Harbor','ME',137,61),(455,'Granger','IA',33,102)\n",
    ";\n",
    "SELECT city , state from Station;\n"
   ]
  },
  {
   "cell_type": "markdown",
   "id": "b020098a",
   "metadata": {},
   "source": [
    "# Q8. Query a list of CITY names from STATION for cities that have an even ID number. Print the results in any order, but exclude duplicates from the answer."
   ]
  },
  {
   "cell_type": "code",
   "execution_count": null,
   "id": "db2596bc",
   "metadata": {},
   "outputs": [],
   "source": [
    "select distinct city from station where id%2 = 0;"
   ]
  },
  {
   "cell_type": "markdown",
   "id": "5c8879f9",
   "metadata": {},
   "source": [
    "# Q9. Find the difference between the total number of CITY entries in the table and the number of distinct CITY entries in the table."
   ]
  },
  {
   "cell_type": "code",
   "execution_count": null,
   "id": "e93270ea",
   "metadata": {},
   "outputs": [],
   "source": [
    "select (count(city) - count(distinct city)) as'CityCount-DistCityCount' from station;\n",
    "  ##  13"
   ]
  },
  {
   "cell_type": "markdown",
   "id": "7e472cad",
   "metadata": {},
   "source": [
    "# Q10. Query the two cities in STATION with the shortest and longest CITY names, as well as their respective lengths (i.e.: number of characters in the name). If there is more than one smallest or largest city, choose the one that comes first when ordered alphabetically."
   ]
  },
  {
   "cell_type": "code",
   "execution_count": null,
   "id": "8fb375e4",
   "metadata": {},
   "outputs": [],
   "source": [
    "(select city, length(city) as length from station order by length(city) asc,city asc limit 1)\n",
    "union\n",
    "(select city, length(city) as length from station order by length(city) desc,city asc limit 1);"
   ]
  },
  {
   "cell_type": "markdown",
   "id": "0644a048",
   "metadata": {},
   "source": [
    "# Q11. Query the list of CITY names starting with vowels (i.e., a, e, i, o, or u) from STATION. Your result cannot contain duplicates."
   ]
  },
  {
   "cell_type": "code",
   "execution_count": null,
   "id": "ec422fce",
   "metadata": {},
   "outputs": [],
   "source": [
    "select distinct city from station where left(city,1) in ('a','e','i','o','u');"
   ]
  },
  {
   "cell_type": "markdown",
   "id": "99ec4e2c",
   "metadata": {},
   "source": [
    "# Q12. Query the list of CITY names ending with vowels (a, e, i, o, u) from STATION. Your result cannot contain duplicates."
   ]
  },
  {
   "cell_type": "code",
   "execution_count": null,
   "id": "e5f7b16a",
   "metadata": {},
   "outputs": [],
   "source": [
    "select distinct city from station where right(city,1) in ('a','e','i','o','u');"
   ]
  },
  {
   "cell_type": "markdown",
   "id": "782c056e",
   "metadata": {},
   "source": [
    "# Q13. Query the list of CITY names from STATION that do not start with vowels. Your result cannot contain duplicates."
   ]
  },
  {
   "cell_type": "code",
   "execution_count": null,
   "id": "a46022b5",
   "metadata": {},
   "outputs": [],
   "source": [
    "select distinct city from station where left(city,1) not in ('a','e','i','o','u');"
   ]
  },
  {
   "cell_type": "markdown",
   "id": "366d273d",
   "metadata": {},
   "source": [
    "# Q14. Query the list of CITY names from STATION that do not end with vowels. Your result cannot contain duplicates."
   ]
  },
  {
   "cell_type": "code",
   "execution_count": null,
   "id": "657be32c",
   "metadata": {},
   "outputs": [],
   "source": [
    "select distinct city from station where right(city,1) not in ('a','e','i','o','u');"
   ]
  },
  {
   "cell_type": "markdown",
   "id": "0cdd446e",
   "metadata": {},
   "source": [
    "# Q15. Query the list of CITY names from STATION that either do not start with vowels or do not end with vowels. Your result cannot contain duplicates."
   ]
  },
  {
   "cell_type": "code",
   "execution_count": null,
   "id": "c64cbd49",
   "metadata": {},
   "outputs": [],
   "source": [
    "select distinct city from station where right(city,1) not in ('a','e','i','o','u') or left(city,1) not in ('a','e','i','o','u');"
   ]
  },
  {
   "cell_type": "markdown",
   "id": "e21df1e7",
   "metadata": {},
   "source": [
    "# Q16. Query the list of CITY names from STATION that do not start with vowels and do not end with vowels. Your result cannot contain duplicates."
   ]
  },
  {
   "cell_type": "code",
   "execution_count": null,
   "id": "5800dc29",
   "metadata": {},
   "outputs": [],
   "source": [
    "select distinct city from station where right(city,1) not in ('a','e','i','o','u') and left(city,1) not in ('a','e','i','o','u');"
   ]
  },
  {
   "cell_type": "markdown",
   "id": "1ebbc7d0",
   "metadata": {},
   "source": [
    "# Q17.Write an SQL query that reports the products that were only sold in the first quarter of 2019. That is, between 2019-01-01 and 2019-03-31 inclusive."
   ]
  },
  {
   "cell_type": "markdown",
   "id": "83f6fdbc",
   "metadata": {},
   "source": [
    "foreign key\n",
    "The FOREIGN KEY constraint is used to prevent actions that would destroy links between tables.\n",
    "\n",
    "A FOREIGN KEY is a field (or collection of fields) in one table, that refers to the PRIMARY KEY in another table.\n",
    "\n",
    "The table with the foreign key is called the child table, and the table with the primary key is called the referenced or parent table."
   ]
  },
  {
   "cell_type": "code",
   "execution_count": null,
   "id": "29a589bf",
   "metadata": {},
   "outputs": [],
   "source": [
    "create table Product\n",
    "(\n",
    "product_id int,\n",
    "product_name varchar(30),\n",
    "unit_price int,\n",
    "primary key(product_id)\n",
    ");\n",
    "\n",
    "\n",
    "insert into Product values (1,'S8',1000), (2,'G4',800), (3,'iPhone',1400);\n",
    "\n",
    "select * from Product;\n",
    "\n",
    "create table Sales\n",
    "(\n",
    "seller_id int,\n",
    "product_id int,\n",
    "buyer_id int,\n",
    "sale_date date,\n",
    "quantity int,\n",
    "price int,\n",
    "foreign key(product_id) references Product(product_id)\n",
    ");\n",
    "\n",
    "insert into Sales values (1,1,1,'2019-01-21',2,2000), (1,2,2,'2019-02-17',1,800),(2,2,3,'2019-06-02',1,800), (3,3,4,'2019-05-13',2,2800);\n",
    "\n",
    "select * from Sales;\n",
    "(select Product.product_id, Product.product_name FROM Product \n",
    "LEFT JOIN\n",
    "Sales  on Product.product_id = Sales.product_id\n",
    "where Sales.sale_date >= '2019-01-01' and Sales.sale_date <= '2019-03-31')\n",
    "EXCEPT\n",
    "(select Product.product_id, Product.product_name FROM Product \n",
    "LEFT JOIN\n",
    "Sales on Product.product_id = Sales.product_id\n",
    "where Sales.sale_date < '2019-01-01' OR Sales.sale_date > '2019-03-31')\n"
   ]
  },
  {
   "cell_type": "markdown",
   "id": "daf92ee9",
   "metadata": {},
   "source": [
    "# Q18. Write an SQL query to find all the authors that viewed at least one of their own articles.Return the result table sorted by id in ascending order."
   ]
  },
  {
   "cell_type": "code",
   "execution_count": null,
   "id": "8df7d346",
   "metadata": {},
   "outputs": [],
   "source": [
    "create table Views \n",
    "(\n",
    "article_id int,\n",
    "author_id int,\n",
    "viewer_id int,\n",
    "view_date date\n",
    ");\n",
    "\n",
    "insert into Views values (1,3,5,'2019-08-01'),(1,3,6,'2019-08-02'),\n",
    "(2,7,7,'2019-08-01'),(2,7,6,'2019-08-02'),(4,7,1,'2019-07-22'),(3,4,4,'2019-07-21'),(3,4,4,'2019-07-21');\n",
    "\n",
    "select * from Views;\n",
    "select distinct author_id as id from views where author_id = viewer_id order by author_id asc;"
   ]
  },
  {
   "cell_type": "markdown",
   "id": "a92c5bb7",
   "metadata": {},
   "source": [
    "# Q19. Write an SQL query to find the percentage of immediate orders in the table, rounded to 2 decimal places."
   ]
  },
  {
   "cell_type": "code",
   "execution_count": null,
   "id": "d06dc3f0",
   "metadata": {},
   "outputs": [],
   "source": [
    "create table Delivery\n",
    "(\n",
    "delivery_id int,\n",
    "customer_id int,\n",
    "order_date date,\n",
    "customer_pref_delivery_date date,\n",
    "primary key(delivery_id)\n",
    ");\n",
    "insert into Delivery values (1,1,'2019-08-01','2019-08-02'),(2,5,'2019-08-02','2019-08-02'),(3,1,'2019-08-11','2019-08-11'),\n",
    "(4,3,'2019-08-24','2019-08-26'),(5,4,'2019-08-21','2019-08-22'),(6,2,'2019-08-11','2019-08-13');\n",
    "select * from Delivery;\n",
    "\n",
    "select round((select count(*) from delivery where order_date = customer_pref_delivery_date)/count(*)*100,2)\n",
    "as immediate_percentage from delivery;"
   ]
  },
  {
   "cell_type": "markdown",
   "id": "30b85b22",
   "metadata": {},
   "source": [
    "# Q20. Write an SQL query to find the ctr of each Ad. Round ctr to two decimal points.Return the result table ordered by ctr in descending order and by ad_id in ascending order in case of a tie."
   ]
  },
  {
   "cell_type": "code",
   "execution_count": null,
   "id": "5f4b26b6",
   "metadata": {},
   "outputs": [],
   "source": [
    "create table Ads\n",
    "(\n",
    "ad_id Int,\n",
    "user_id Int,\n",
    "action varchar(10),\n",
    "primary key(ad_id ,user_id)\n",
    ");\n",
    "\n",
    "insert into Ads values (1,1,'Clicked'),(2,2,'Clicked'),(3,3,'Viewed'),(5,5,'Ignored'),(1,7,'Ignored'),(2,7,'Viewed'),(3,5,'Clicked'),\n",
    "(1,4,'Viewed'),(2,11,'Viewed'),(1,2,'Clicked');\n",
    "select * from Ads;\n",
    "select t.ad_id, (case\n",
    "when base != 0 then round(t.num/t.base*100,2) else 0 end) as Ctr from (select\n",
    "ad_id,\n",
    "sum( case when action = 'clicked' or action = 'viewed' then 1 else 0 end) as\n",
    "base,\n",
    "sum( case when action = 'clicked' then 1 else 0 end) as num\n",
    "from ads\n",
    "group by ad_id)t\n",
    "order by Ctr desc, t.ad_id asc;\n"
   ]
  },
  {
   "cell_type": "markdown",
   "id": "30ca15ca",
   "metadata": {},
   "source": [
    "# Q21. Write an SQL query to find the team size of each of the employees.Return result table in any order."
   ]
  },
  {
   "cell_type": "code",
   "execution_count": null,
   "id": "403e9eae",
   "metadata": {},
   "outputs": [],
   "source": [
    "\n",
    "create table Employee(\n",
    "employee_id int,\n",
    "team_id int,\n",
    "primary key(employee_id)\n",
    ");\n",
    "insert into Employee values (1,8),(2,8),(3,8),(4,7),(5,9),(6,9);\n",
    "select * from Employee;\n",
    "select employee_id, count(team_id) over (partition by team_id) as team_size from employee order by employee_id;"
   ]
  },
  {
   "cell_type": "markdown",
   "id": "cc90e99b",
   "metadata": {},
   "source": [
    "# Q22.Write an SQL query to find the type of weather in each country for November 2019."
   ]
  },
  {
   "cell_type": "code",
   "execution_count": null,
   "id": "6af0f569",
   "metadata": {},
   "outputs": [],
   "source": [
    "create table Countries (\n",
    "country_id int,\n",
    "country_name varchar(20),\n",
    "primary key(country_id)\n",
    ");\n",
    "create Table Weather (\n",
    "country_id int,\n",
    "weather_state int,\n",
    "day date,\n",
    "primary key(country_id,day)\n",
    ");\n",
    "insert  into Countries values (2,'USA'),(3,'Australia'),(7,'Peru'),(5,'China'),(8,'Morocco'),(9,'Spain');\n",
    "insert into Weather values (2,15,'2019-11-01'),(2,12,'2019-10-28'),(2,12,'2019-10-27'),(3,-2,'2019-11-10'),(3,0,'2019-11-11'),(3,3,'2019-11-12'),\n",
    "(5,16,'2019-11-07'),(5,18,'2019-11-09'),(5,21,'2019-11-23'),(7,25,'2019-11-28'),(7,22,'2019-12-01'),(7,20,'2019-12-02'),(8,25,'2019-11-05'),\n",
    "(8,27,'2019-11-15'),(8,31,'2019-11-25'),(9,7,'2019-10-23'),(9,3,'2019-12-23');\n",
    "select c.country_name, case\n",
    "when avg(weather_state) <= 15 then 'Cold'\n",
    "when avg(weather_state) >= 25 then 'Hot'\n",
    "else 'Warm'\n",
    "end as weather_state\n",
    "from\n",
    "countries c\n",
    "left join\n",
    "weather w\n",
    "on c.country_id = w.country_id\n",
    "where month(day) = 11\n",
    "group by c.country_name;"
   ]
  },
  {
   "cell_type": "markdown",
   "id": "57d9874a",
   "metadata": {},
   "source": [
    "# Q23. Write an SQL query to find the average selling price for each product. average_price should be rounded to 2 decimal places.\n"
   ]
  },
  {
   "cell_type": "code",
   "execution_count": null,
   "id": "65896b58",
   "metadata": {},
   "outputs": [],
   "source": [
    "create Table Prices\n",
    "(\n",
    "product_id Int,\n",
    "start_date Date,\n",
    "end_date Date,\n",
    "Price Int,\n",
    "primary key(product_id,start_date,end_date)\n",
    ");\n",
    "create Table UnitsSold\n",
    "(\n",
    "product_id Int,\n",
    "purchase_date Date,\n",
    "Units Int\n",
    ");\n",
    "insert into Prices values(1,'2019-02-17','2019-02-28',5),(1,'2019-03-01','2019-03-22',20),(2,'2019-02-01','2019-02-20',15),(2,'2019-02-21','2019-03-31',30);\n",
    "insert into UnitsSold values (1,'2019-02-25',100),(1,'2019-03-01',15),(2,'2019-02-10',200),(2,'2019-03-22',30);\n",
    "select p.product_id, round(sum(u.units*p.price)/sum(u.units),2) as average_price\n",
    "from prices p \n",
    "left join\n",
    "unitssold u\n",
    "on p.product_id = u.product_id\n",
    "where u.purchase_date >= start_date and u.purchase_date <= end_date\n",
    "group by product_id\n",
    "order by product_id;"
   ]
  },
  {
   "cell_type": "markdown",
   "id": "da29028c",
   "metadata": {},
   "source": [
    "# Q24. Write an SQL query to report the first login date for each player. Return the result table in any order."
   ]
  },
  {
   "cell_type": "code",
   "execution_count": null,
   "id": "309bd217",
   "metadata": {},
   "outputs": [],
   "source": [
    "create Table Activity\n",
    "(\n",
    "player_id Int,\n",
    "device_id Int,\n",
    "event_date Date,\n",
    "games_played Int,\n",
    "primary key(player_id, event_date)\n",
    ");\n",
    "\n",
    "insert into Activity values(1,2,'2016-03-01',5),(1,2,'2016-05-02',6),(2,3,'2017-06-25',1),(3,1,'2016-03-02',0),(3,4,'2018-07-03',5);\n",
    "select t.player_id, event_date as first_login from (select player_id, \n",
    "event_date, row_number() over(partition by player_id order by event_date) as num \n",
    "from activity)t where t.num = 1;\n"
   ]
  },
  {
   "cell_type": "markdown",
   "id": "873c3262",
   "metadata": {},
   "source": [
    "# Q25.Write an SQL query to report the device that is first logged in for each player.Return the result table in any order.\n"
   ]
  },
  {
   "cell_type": "code",
   "execution_count": null,
   "id": "78640dac",
   "metadata": {},
   "outputs": [],
   "source": [
    "create Table Activity\n",
    "(\n",
    "player_id int,\n",
    "device_id int,\n",
    "event_date date,\n",
    "games_played int,\n",
    "primary key(player_id, event_date)\n",
    ");\n",
    "\n",
    "insert into  Activity values(1,2,'2016-03-01',5),(1,2,'2016-05-02',6),(2,3,'2017-06-25',1),(3,1,'2016-03-02',0),(3,4,'2018-07-03',5);\n",
    "\n",
    "select t.player_id, t.device_id \n",
    "from (select player_id, device_id, row_number() over(partition by player_id \n",
    "order by event_date) as num from activity)t\n",
    "where t.num = 1;"
   ]
  },
  {
   "cell_type": "markdown",
   "id": "751cbde0",
   "metadata": {},
   "source": [
    "# Q26. Write an SQL query to get the names of products that have at least 100 units ordered in February 2020 and their amount."
   ]
  },
  {
   "cell_type": "code",
   "execution_count": null,
   "id": "9057b981",
   "metadata": {},
   "outputs": [],
   "source": [
    "create Table Products\n",
    "(\n",
    "product_id int,\n",
    "product_name varchar(30),\n",
    "product_category Varchar(30),\n",
    "primary key(product_id)\n",
    ");\n",
    "create Table Orders\n",
    "(\n",
    "product_id Int,\n",
    "order_date Date,\n",
    "Unit Int,\n",
    "foreign key(product_id) references Product(product_id)\n",
    ");\n",
    "insert into Products values(1,'Leetcode Solutions','Book'),(2,'Jewels of Stringology','Book'),(3,'HP','Laptop'),(4,'Lenovo','Laptop'),\n",
    "(5,'Leetcode Kit','T-shirt');\n",
    "\n",
    "insert into Orders values (1,'2020-02-05',60),(1,'2020-02-10',70),(2,'2020-01-18',30),(2,'2020-02-11',80),(3,'2020-02-17',2),(3,'2020-02-24',3),\n",
    "(4,'2020-03-01',20),(4,'2020-03-04',30),(4,'2020-03-04',60),(5,'2020-02-25',50),(5,'2020-02-27',50),(5,'2020-03-01',50);\n",
    "\n",
    "select p.product_name, sum(o.unit) as unit\n",
    "from\n",
    "Products p\n",
    "left join\n",
    "Orders o\n",
    "on p.product_id = o.product_id\n",
    "where month(o.order_date) = 2 and year(o.order_date) = 2020\n",
    "group by p.product_id\n",
    "having unit >= 100;\n"
   ]
  },
  {
   "cell_type": "markdown",
   "id": "89f63f9a",
   "metadata": {},
   "source": [
    "# Q27. Write an SQL query to find the users who have valid emails.Avalid e-mail has a prefix name and a domain where:\n",
    "● The prefix name is a string that may contain letters (upper or lower case), digits, underscore\n",
    "'_', period '.', and/or dash '-'. The prefix name must start with a letter.\n",
    "● The domain is '@leetcode.com'.\n",
    "Return the result table in any order.\n"
   ]
  },
  {
   "cell_type": "code",
   "execution_count": null,
   "id": "0bf72d09",
   "metadata": {},
   "outputs": [],
   "source": [
    "create table Users\n",
    "(\n",
    "user_id Int,\n",
    "Name Varchar(30),\n",
    "Mail Varchar(30),\n",
    "primary key(user_id)\n",
    ");\n",
    "insert into Users values(1,'Winston','winston@leetcode.com'),(2,'Jonathan','jonathanisgreat'),(3,'Annabelle','bella-@leetcode.com'),\n",
    "(4,'Sally','sally.come@leetcode.com'),(5,'Marwan','quarz#2020@leetcode.com'),(6,'David','david69@gmail.com'),(7,'Shapiro','.shapo@leetcode.com');\n",
    "\n",
    "select user_id, name, mail from Users \n",
    "where\n",
    "mail regexp '^[a-zA-Z]+[a-zA-Z0-9_\\.\\-]*@leetcode[\\.]com'\n",
    "order by user_id;\n",
    "\n"
   ]
  },
  {
   "cell_type": "markdown",
   "id": "0236ce15",
   "metadata": {},
   "source": [
    "# Q28. Write an SQL query to report the customer_id and customer_name of customers who have spent at least $100 in each month of June and July 2020. Return the result table in any order."
   ]
  },
  {
   "cell_type": "code",
   "execution_count": null,
   "id": "bab03035",
   "metadata": {},
   "outputs": [],
   "source": [
    "create Table Customers\n",
    "(\n",
    "customer_id Int,\n",
    "Name Varchar(30),\n",
    "Country Varchar(30),\n",
    "primary key(customer_id)\n",
    ");\n",
    "\n",
    "create Table Product\n",
    "(\n",
    "product_id int,\n",
    "description varchar(30),\n",
    "price int,\n",
    "primary key(product_id)\n",
    ");\n",
    "\n",
    "\n",
    "create Table Orders\n",
    "(\n",
    "order_id Int,\n",
    "customer_id Int,\n",
    "product_id Int,\n",
    "order_date Date,\n",
    "Quantity Int,\n",
    "primary key(order_id)\n",
    ");\n",
    "\n",
    "insert into Customers values (1,'Winston','USA'),(2,'Jonathan','Peru'),(3,'Moustafa','Egypt');\n",
    "\n",
    "insert into Product values (10,'LC Phone',300),(20,'LC T-Shirt',10),(30,'LC Book',45),(40,'LC Keychain',2);\n",
    "\n",
    "insert into Orders values(1,1,10,'2020-06-10',1),(2,1,20,'2020-07-01',1),(3,1,30,'2020-07-08',2),(4,2,10,'2020-06-15',2),\n",
    "(5,2,40,'2020-07-01',10),(6,3,20,'2020-06-24',2),(7,3,30,'2020-06-25',2),(9,3,30,'2020-05-08',3);\n",
    "\n",
    "select t.customer_id, t.name from\n",
    "(select c.customer_id, c.name, \n",
    "sum(case when month(o.order_date) = 6 and year(o.order_date) = 2020 then\n",
    "p.price*o.quantity else 0 end) as june_spent,\n",
    "sum(case when month(o.order_date) = 7 and year(o.order_date) = 2020 then\n",
    "p.price*o.quantity else 0 end) as july_spent\n",
    "from\n",
    "Orders o\n",
    "left join\n",
    "Product p\n",
    "on o.product_id = p.product_id\n",
    "left join\n",
    "Customers c\n",
    "on o.customer_id = c.customer_id\n",
    "group by c.customer_id) t\n",
    "where june_spent >= 100 and july_spent >= 100;"
   ]
  },
  {
   "cell_type": "markdown",
   "id": "44b03fca",
   "metadata": {},
   "source": [
    "# Q29. Write an SQL query to report the distinct titles of the kid-friendly movies streamed in June 2020. Return the result table in any order.\n"
   ]
  },
  {
   "cell_type": "code",
   "execution_count": null,
   "id": "7d8ecae3",
   "metadata": {},
   "outputs": [],
   "source": [
    "create Table TVProgram\n",
    "(\n",
    "program_date Date,\n",
    "content_id Int,\n",
    "channel Varchar(30),\n",
    "primary key(program_date, content_id)\n",
    ");\n",
    "create Table Content\n",
    "(\n",
    "content_id Varchar(30),\n",
    "Title Varchar(30),\n",
    "Kids_content Varchar(1),\n",
    "content_type Varchar(30),\n",
    "primary key(content_id)\n",
    ");\n",
    "insert into TVProgram values('2020-06-10 08:00',1,'LC-Channel'),('2020-05-11 12:00',2,'LC-Channel'),('2020-05-12 12:00',3,'LC-Channel'),\n",
    "('2020-05-13 14:00',4,'Disney Ch'),('2020-06-18 14:00',4,'Disney Ch'),('2020-07-15 16:00',5,'Disney Ch');\n",
    "\n",
    "insert into Content values (1,'Leetcode Movie','N','Movies'),(2,'Alg. for Kids','Y','Series'),(3,'Database Sols','N','Series'),\n",
    "(4,'Aladdin','Y','Movies'),(5,'Cinderella','Y','Movies');\n",
    "\n",
    "select c.Title from\n",
    "Content c\n",
    "left join\n",
    "TVProgram t\n",
    "on c.content_id = t.content_id\n",
    "where c.Kids_content = 'Y' and c.content_type = 'Movies' and\n",
    "month(t.program_date) = 6 and year(t.program_date) = 2020;"
   ]
  },
  {
   "cell_type": "markdown",
   "id": "de206a9a",
   "metadata": {},
   "source": [
    "# Q30. Write an SQL query to find the npv of each query of the Queries table.Return the result table in any order.\n"
   ]
  },
  {
   "cell_type": "code",
   "execution_count": null,
   "id": "bc22a091",
   "metadata": {},
   "outputs": [],
   "source": [
    "create Table NPV\n",
    "(\n",
    "Id Int,\n",
    "Year Int,\n",
    "Npv Int,\n",
    "primary key(id, year)\n",
    ");\n",
    "\n",
    "create Table Queries\n",
    "(\n",
    "Id Int,\n",
    "Year Int,\n",
    "primary key(id, year)\n",
    ");\n",
    "\n",
    "\n",
    "insert into NPV values(1,2018,100),(7,2020,30),(13,2019,40),(1,2019,113),(2,2008,121),(3,2009,12),(11,2020,99),(7,2019,0);\n",
    "\n",
    "insert into Queries values(1,2019),(2,2008),(3,2009),(7,2018),(7,2019),(7,2020),(13,2019);\n",
    "\n",
    "select q.*, coalesce(n.Npv,0) as Npv\n",
    "from\n",
    "Queries q\n",
    "left join\n",
    "NPV n\n",
    "on q.Id = n.Id and q.Year = n.Year;"
   ]
  },
  {
   "cell_type": "markdown",
   "id": "974f9cdd",
   "metadata": {},
   "source": [
    "# Q31. Write an SQL query to find the npv of each query of the Queries table.Return the result table in any order."
   ]
  },
  {
   "cell_type": "code",
   "execution_count": null,
   "id": "2da2eb46",
   "metadata": {},
   "outputs": [],
   "source": [
    "create Table NPV\n",
    "(\n",
    "Id Int,\n",
    "Year Int,\n",
    "Npv Int,\n",
    "primary key(id, year)\n",
    ");\n",
    "\n",
    "create Table Queries\n",
    "(\n",
    "Id Int,\n",
    "Year Int,\n",
    "primary key(id, year)\n",
    ");\n",
    "\n",
    "\n",
    "insert into NPV values(1,2018,100),(7,2020,30),(13,2019,40),(1,2019,113),(2,2008,121),(3,2009,12),(11,2020,99),(7,2019,0);\n",
    "\n",
    "insert into Queries values(1,2019),(2,2008),(3,2009),(7,2018),(7,2019),(7,2020),(13,2019);\n",
    "\n",
    "\n",
    "select q.*, coalesce(n.Npv,0) as Npv\n",
    "from\n",
    "Queries q\n",
    "left join\n",
    "NPV n\n",
    "on q.Id = n.Id and q.Year = n.Year;"
   ]
  },
  {
   "cell_type": "markdown",
   "id": "71db1640",
   "metadata": {},
   "source": [
    "# Q32. Write an SQL query to show the unique ID of each user, If a user does not have a unique ID replace just show null."
   ]
  },
  {
   "cell_type": "code",
   "execution_count": null,
   "id": "13abd7d7",
   "metadata": {},
   "outputs": [],
   "source": [
    "create Table Employees\n",
    "(\n",
    "Id Int,\n",
    "Name Varchar(30),\n",
    "primary key(Id)\n",
    ");\n",
    "create Table EmployeeUNI\n",
    "(\n",
    "Id Int,\n",
    "unique_id Int,\n",
    "primary key(id, unique_id)\n",
    ");\n",
    "\n",
    "insert into Employees values(1,'Alice'),(7,'Bob'),(11,'Meir'),(90,'Winston'),(3,'Jonathan');\n",
    "insert into EmployeeUNI values(3,1),(11,2),(90,3);\n",
    "select u.unique_id, e.name\n",
    "from\n",
    "employees e\n",
    "left join\n",
    "employeeUNI u\n",
    "on e.id = u.id;"
   ]
  },
  {
   "cell_type": "markdown",
   "id": "253779d8",
   "metadata": {},
   "source": [
    "# Q33. Write an SQL query to report the distance travelled by each user. Return the result table ordered by travelled_distance in descending order, if two or more users travelled the same distance, order them by their name in ascending order."
   ]
  },
  {
   "cell_type": "code",
   "execution_count": null,
   "id": "5f4f563b",
   "metadata": {},
   "outputs": [],
   "source": [
    "create Table Users\n",
    "(\n",
    "Id Int,\n",
    "Name Varchar(20),\n",
    "primary key(Id)\n",
    ");\n",
    "create Table Rides\n",
    "(\n",
    "Id Int,\n",
    "user_id Int,\n",
    "Distance Int,\n",
    "primary key(Id)\n",
    ");\n",
    "insert into Users values (1,'Alice'),(2,'Bob'),(3,'Alex'),(4,'Donald'),(7,'Lee'),(13,'Jonathan'),(19,'Elvis');\n",
    "insert into Rides values (1,1,120),(2,2,317),(3,3,222),(4,7,100),(5,13,312),(6,19,50),(7,7,120),(8,19,400),(9,7,230);\n",
    "select u.name, coalesce(sum(r.distance),0) as travelled_distance\n",
    "from\n",
    "users u\n",
    "left join\n",
    "rides r\n",
    "on u.id = r.user_id\n",
    "group by u.name\n",
    "order by travelled_distance desc, u.name;"
   ]
  },
  {
   "cell_type": "markdown",
   "id": "e384597c",
   "metadata": {},
   "source": [
    "# Q34. Write an SQL query to get the names of products that have at least 100 units ordered in February 2020 and their amount.Return result table in any order."
   ]
  },
  {
   "cell_type": "code",
   "execution_count": null,
   "id": "03229e29",
   "metadata": {},
   "outputs": [],
   "source": [
    "create Table Products\n",
    "(\n",
    "product_id Int,\n",
    "product_name Varchar(30),\n",
    "product_category Varchar(30),\n",
    "primary key(product_id)\n",
    ");\n",
    "create Table Orders\n",
    "(\n",
    "product_id Int,\n",
    "order_date Date,\n",
    "Unit Int,\n",
    "foreign key(product_id) references Products(product_id)\n",
    ");\n",
    "insert into Products values (1,'Leetcode Solutions','Book'),(2,'Jewels of Stringology','Book'),(3,'HP','Laptop'),(4,'Lenovo','Laptop'),\n",
    "(5,'Leetcode Kit','T-shirt');\n",
    "\n",
    "insert into Orders values (1,'2020-02-05',60),(1,'2020-02-10',70),(2,'2020-01-18',30),(2,'2020-02-11',80),(3,'2020-02-17',2),(3,'2020-02-24',3),\n",
    "(4,'2020-03-01',20),(4,'2020-03-04',30),(4,'2020-03-04',60),(5,'2020-02-25',50),(5,'2020-02-27',50),(5,'2020-03-01',50);\n",
    "\n",
    "select p.product_name, sum(o.unit) as unit\n",
    "from\n",
    "Products p\n",
    "left join\n",
    "Orders o\n",
    "on p.product_id = o.product_id\n",
    "where month(o.order_date) = 2 and year(o.order_date) = 2020\n",
    "group by p.product_id\n",
    "having unit >= 100;"
   ]
  },
  {
   "cell_type": "markdown",
   "id": "858a5c0d",
   "metadata": {},
   "source": [
    "# Q35. Write an SQL query to:\n",
    "● Find the name of the user who has rated the greatest number of movies. In case of a tie,\n",
    "return the lexicographically smaller user name.\n",
    "● Find the movie name with the highest average rating in February 2020. In case of a tie, return\n",
    "the lexicographically smaller movie name."
   ]
  },
  {
   "cell_type": "code",
   "execution_count": null,
   "id": "f9e681f1",
   "metadata": {},
   "outputs": [],
   "source": [
    "create Table Movies\n",
    "(\n",
    "movie_id Int,\n",
    "Title Varchar(30),\n",
    "primary key(movie_id)\n",
    ");\n",
    "\n",
    "create Table Users\n",
    "(\n",
    "user_id Int,\n",
    "Name Varchar(30),\n",
    "primary key(user_id)\n",
    ");\n",
    "\n",
    "create Table MovieRating\n",
    "(\n",
    "movie_id Int,\n",
    "user_id Int,\n",
    "Rating Int,\n",
    "created_at Date,\n",
    "foreign  key(movie_id) references Movies(movie_id),\n",
    "foreign key(user_id) references Users(user_id)\n",
    ");\n",
    "\n",
    "insert into Movies values (1,'Avengers'),(2,'Frozen2'),(3,'Joker');\n",
    "insert into Users values (1,'Daniel'),(2,'Monic'),(3,'Maria'),(4,'James');\n",
    "insert into MovieRating values (1,1,3,'2020-01-12'),(1,2,4,'2020-02-11'),(1,3,2,'2020-02-12'),(1,4,1,'2020-01-01'),(2,1,5,'2020-02-17'),\n",
    "(2,2,2,'2020-02-01'),(2,3,2,'2020-03-01'),(3,1,3,'2020-02-22'),(3,2,4,'2020-02-25');\n",
    "\n",
    "(select t1.name as Results from\n",
    "(select u.name, count(u.user_id), dense_rank() over(order by count(user_id) \n",
    "desc, u.name) as r1 FROM\n",
    "Users u\n",
    "left join\n",
    "MovieRating m\n",
    "on u.user_id = m.user_id\n",
    "group by u.user_id) t1\n",
    "where r1 = 1)\n",
    "union\n",
    "(select t2.title as Results from\n",
    "(select mo.title, avg(m.rating), dense_rank() over(order by avg(m.rating)desc, \n",
    "mo.title) as r2 from\n",
    "Movies mo\n",
    "left join\n",
    "MovieRating m\n",
    "on mo.movie_id = m.movie_id\n",
    "where month(m.created_at) = 2 and year(m.created_at) = 2020\n",
    "group by m.movie_id) t2\n",
    "where r2 = 1);\n",
    "\n"
   ]
  },
  {
   "cell_type": "markdown",
   "id": "abde5dee",
   "metadata": {},
   "source": [
    "# Q36. Write an SQL query to report the distance travelled by each user.Return the result table ordered by travelled_distance in descending order, if two or more users travelled the same distance, order them by their name in ascending order."
   ]
  },
  {
   "cell_type": "code",
   "execution_count": null,
   "id": "bc16ac6e",
   "metadata": {},
   "outputs": [],
   "source": [
    "\n",
    "create Table Users\n",
    "(\n",
    "Id Int,\n",
    "name varchar(30),\n",
    "primary key(Id)\n",
    ");\n",
    "\n",
    "create Table Rides\n",
    "(\n",
    "Id int,\n",
    "user_id int,\n",
    "distance int,\n",
    "primary key(Id)\n",
    ");\n",
    "\n",
    "\n",
    "insert into Users values (1,'Alice'),(2,'Bob'),(3,'Alex'),(4,'Donald'),(7,'Lee'),(13,'Jonathan'),(19,'Elvis');\n",
    "insert into Rides values (1,1,120),(2,2,317),(3,3,222),(4,7,100),(5,13,312),(6,19,50),(7,7,120),(8,19,400),(9,7,230);\n",
    "select u.name, coalesce(sum(r.distance),0) as travelled_distance\n",
    "from\n",
    "users u\n",
    "left join\n",
    "rides r\n",
    "on u.id = r.user_id\n",
    "group by u.name\n",
    "order by travelled_distance desc, u.name;\n"
   ]
  },
  {
   "cell_type": "markdown",
   "id": "105c3546",
   "metadata": {},
   "source": [
    "# Q37. Write an SQL query to show the unique ID of each user, If a user does not have a unique ID replace just show null."
   ]
  },
  {
   "cell_type": "code",
   "execution_count": null,
   "id": "571ac9e8",
   "metadata": {},
   "outputs": [],
   "source": [
    "\n",
    "create Table Employees\n",
    "(\n",
    "id int,\n",
    "name varchar(30),\n",
    "primary key(id)\n",
    ");\n",
    "\n",
    "create Table EmployeeUNI\n",
    "(\n",
    "id int,\n",
    "unique_id int,\n",
    "primary key(id,unique_id)\n",
    ");\n",
    "insert into Employees values(1,'Alice'),(7,'Bob'),(11,'Meir'),(90,'Winston'),(3,'Jonathan');\n",
    "insert into EmployeeUNI values(3,1),(11,2),(90,3);\n",
    "select u.unique_id, e.name\n",
    "from\n",
    "employees e\n",
    "left join\n",
    "employeeUNI u\n",
    "on e.id = u.id;"
   ]
  },
  {
   "cell_type": "markdown",
   "id": "44f5610c",
   "metadata": {},
   "source": [
    "# Q38. Write an SQL query to find the id and the name of all students who are enrolled in departments that no longer exist.Return the result table in any order"
   ]
  },
  {
   "cell_type": "code",
   "execution_count": null,
   "id": "dcef2bfb",
   "metadata": {},
   "outputs": [],
   "source": [
    "create Table Departments\n",
    "(\n",
    "Id int,\n",
    "name varchar(30),\n",
    "primary key(Id)\n",
    ");\n",
    "\n",
    "create Table Students\n",
    "(\n",
    "Id int,\n",
    "name varchar(30),\n",
    "department_id int,\n",
    "primary key(Id)\n",
    ");\n",
    "\n",
    "insert into Departments values (1,'Electrical Engineering'),(7,'Computer Engineering'),(13,'Business Administration');\n",
    "insert into Students values (23,'Alice',1),(1,'Bob',7),(5,'Jennifer',13),(2,'John',14),(4,'Jasmine',77),(3,'Steve',74),(6,'Luis',1),\n",
    "(8,'Jonathan',7),(7,'Daiana',33),(11,'Madelynn',1);\n",
    "\n",
    "select id, name from Students \n",
    "where department_id not in (select id from Departments);"
   ]
  },
  {
   "cell_type": "markdown",
   "id": "ef14a2c7",
   "metadata": {},
   "source": [
    "# Q39. Write an SQL query to report the number of calls and the total call duration between each pair of distinct persons (person1, person2) where person1 < person2.Return the result table in any order."
   ]
  },
  {
   "cell_type": "code",
   "execution_count": null,
   "id": "2ada5de7",
   "metadata": {},
   "outputs": [],
   "source": [
    "\n",
    "create Table Calls\n",
    "(\n",
    "from_id int,\n",
    "to_id int,\n",
    "duration int\n",
    ");\n",
    "\n",
    "insert into Calls values (1,2,59),(2,1,11),(1,3,20),(3,4,100),(3,4,200),(3,4,200),(4,3,499);\n",
    "\n",
    "select t.person1, t.person2, count(*) as call_count, sum(t.duration) as\n",
    "total_duration\n",
    "from\n",
    "(select duration,\n",
    "case when from_id < to_id then from_id else to_id end as person1,\n",
    "case when from_id > to_id then from_id else to_id end as person2\n",
    "from Calls) t\n",
    "group by t.person1, t.person2;"
   ]
  },
  {
   "cell_type": "markdown",
   "id": "04a1dbb0",
   "metadata": {},
   "source": [
    "# Q40. Write an SQL query to find the average selling price for each product. average_price should be rounded to 2 decimal places.Return the result table in any order."
   ]
  },
  {
   "cell_type": "code",
   "execution_count": null,
   "id": "7599c84e",
   "metadata": {},
   "outputs": [],
   "source": [
    "create Table Prices\n",
    "(\n",
    "product_id Int,\n",
    "start_date Date,\n",
    "end_date Date,\n",
    "Price Int,\n",
    "primary key(product_id, start_date, end_date)\n",
    ");\n",
    "create Table UnitsSold\n",
    "(\n",
    "product_id Int,\n",
    "purchase_date Date,\n",
    "Units Int\n",
    ");\n",
    "\n",
    "insert into Prices values(1,'2019-02-17','2019-02-28',5),(1,'2019-03-01','2019-03-22',20),(2,'2019-02-01','2019-02-20',15),(2,'2019-02-21','2019-03-31',30);\n",
    "insert into UnitsSold values (1,'2019-02-25',100),(1,'2019-03-01',15),(2,'2019-02-10',200),(2,'2019-03-22',30);\n",
    "\n",
    "select p.product_id, round(sum(u.units*p.price)/sum(u.units),2) as average_price\n",
    "from\n",
    "prices p \n",
    "left join\n",
    "unitssold u\n",
    "on p.product_id = u.product_id\n",
    "where u.purchase_date >= start_date and u.purchase_date <= end_date\n",
    "group by product_id\n",
    "order by product_id;"
   ]
  },
  {
   "cell_type": "markdown",
   "id": "8af6452c",
   "metadata": {},
   "source": [
    "# Q41. Write an SQL query to report the number of cubic feet of volume the inventory occupies in each warehouse.Return the result table in any order.\n"
   ]
  },
  {
   "cell_type": "code",
   "execution_count": null,
   "id": "7b9e03c8",
   "metadata": {},
   "outputs": [],
   "source": [
    "create Table Warehouse\n",
    "(\n",
    "Name Varchar(30),\n",
    "product_id Int,\n",
    "Units Int,\n",
    "primary key(name, product_id)\n",
    ");\n",
    "create Table Products\n",
    "(\n",
    "product_id Int,\n",
    "product_name Varchar(30),\n",
    "Width Int,\n",
    "Length Int,\n",
    "Height Int,\n",
    "primary key(product_id)\n",
    ");\n",
    "\n",
    "insert into Warehouse values ('LCHouse1',1,1),('LCHouse1',2,10),('LCHouse1',3,5),('LCHouse2',1,2),('LCHouse2',2,2),('LCHouse3',4,1);\n",
    "insert into Products values (1,'LC-TV',5,50,40),(2,'LC-KeyChain',5,5,5),(3,'LC-Phone',2,10,10),(4,'LC-T-Shirt',4,10,20);\n",
    "select w.name as warehouse_name, sum(p.width*p.length*p.height*w.units) as\n",
    "volume \n",
    "from\n",
    "warehouse w\n",
    "left join\n",
    "products p\n",
    "on w.product_id = p.product_id\n",
    "group by w.name\n",
    "order by w.name;"
   ]
  },
  {
   "cell_type": "markdown",
   "id": "7ed0ebe4",
   "metadata": {},
   "source": [
    "# Q42. Write an SQL query to report the difference between the number of apples and oranges sold each day.Return the result table ordered by sale_date."
   ]
  },
  {
   "cell_type": "code",
   "execution_count": null,
   "id": "41b9869f",
   "metadata": {},
   "outputs": [],
   "source": [
    "create Table Sales\n",
    "(\n",
    "sale_date date,\n",
    "Fruit varchar(30),\n",
    "sold_num int,\n",
    "primary key(sale_date, fruit)\n",
    ");\n",
    "insert into Sales values ('2020-05-01','apples',10),('2020-05-01','oranges',8),('2020-05-02','apples',15),('2020-05-02','oranges',15),\n",
    "('2020-05-03','apples',20),('2020-05-03','oranges',0),('2020-05-04','apples',15),('2020-05-04','oranges',16);\n",
    "select t.sale_date, (t.apples_sold - t.oranges_sold) as diff\n",
    "from\n",
    "(select sale_date,\n",
    "max(CASE WHEN fruit = 'apples' THEN sold_num ELSE 0 END )as apples_sold,\n",
    "max(CASE WHEN fruit = 'oranges' THEN sold_num ELSE 0 END )as oranges_sold\n",
    "FROM sales\n",
    "group by sale_date) t\n",
    "ORDER BY t.sale_date;"
   ]
  },
  {
   "cell_type": "markdown",
   "id": "eb95df8b",
   "metadata": {},
   "source": [
    "# Q43. Write an SQL query to report the fraction of players that logged in again on the day after the day they first logged in, rounded to 2 decimal places. In other words, you need to count the number of playersthat logged in for at least two consecutive days starting from their first login date, then divide that number by the total number of players."
   ]
  },
  {
   "cell_type": "code",
   "execution_count": null,
   "id": "2aafd6d2",
   "metadata": {},
   "outputs": [],
   "source": [
    "create Table Activity\n",
    "(\n",
    "player_id int,\n",
    "device_id int,\n",
    "event_date date,\n",
    "games_played int,\n",
    "primary key(player_id, event_date) \n",
    ");\n",
    "\n",
    "insert into Activity values (1,2,'2016-03-01',5),(1,2,'2016-03-02',6),(2,3,'2017-06-25',1),(3,1,'2016-03-02',0),(3,4,'2018-07-03',5);\n",
    "\n",
    "select round(t.player_id/(select count(distinct player_id) from activity),2) as\n",
    "fraction from\n",
    "(\n",
    "select distinct player_id,\n",
    "datediff(event_date, lead(event_date, 1) over(partition by player_id order by\n",
    "event_date)) as diff\n",
    "from activity ) t\n",
    "where diff = -1;"
   ]
  },
  {
   "cell_type": "markdown",
   "id": "baadb485",
   "metadata": {},
   "source": [
    "# Q44. Write an SQL query to report the managers with at least five direct reports. Return the result table in any order."
   ]
  },
  {
   "cell_type": "code",
   "execution_count": null,
   "id": "6164d5f1",
   "metadata": {},
   "outputs": [],
   "source": [
    "create table Employee\n",
    "(\n",
    "Id int,\n",
    "Name varchar(30),\n",
    "Department varchar(1),\n",
    "managerId int,\n",
    "primary key(id)\n",
    ");\n",
    "insert into Employee values (101,'John','A',Null),(102,'Dan','A',101),(103,'James','A',101),(104,'Amy','A',101),(105,'Anne','A',101),\n",
    "(106,'Ron','B',101);\n",
    "select t.name from\n",
    "(select a.id, a.name, count(b.managerID) as no_of_direct_reports from\n",
    "employee a\n",
    "INNER JOIN\n",
    "employee b\n",
    "on a.id = b.managerID\n",
    "group by b.managerID) t\n",
    "where no_of_direct_reports >= 5\n",
    "order by t.name;"
   ]
  },
  {
   "cell_type": "markdown",
   "id": "f1f7e1d1",
   "metadata": {},
   "source": [
    "# Q45. Write an SQL query to report the respective department name and number of students majoring in each department for all departments in the Department table (even ones with no current students).Return the result table ordered by student_number in descending order. In case of a tie, order them by dept_name alphabetically."
   ]
  },
  {
   "cell_type": "code",
   "execution_count": null,
   "id": "2c9a2028",
   "metadata": {},
   "outputs": [],
   "source": [
    "create Table Student\n",
    "(\n",
    "student_id Int,\n",
    "student_name Varchar(30),\n",
    "Gender Varchar(30),\n",
    "dept_id Int,\n",
    "primary key(student_id),\n",
    "foreign key(dept_id) references Department(dept_id)\n",
    ");\n",
    "\n",
    "create Table Department\n",
    "(\n",
    "dept_id Int,\n",
    "dept_name Varchar(30),\n",
    "primary key(dept_id)\n",
    ");\n",
    "\n",
    "insert into Student values (1,'Jack','M',1),(2,'Jane','F',1),(3,'Mark','M',2);\n",
    "insert into Department values (1,'Engineering'),(2,'Science'),(3,'Law');\n",
    "select d.dept_name, count(s.dept_id) as student_number from\n",
    "department d\n",
    "left join\n",
    "student s\n",
    "on s.dept_id = d.dept_id\n",
    "group by d.dept_id\n",
    "order by student_number desc, dept_name;"
   ]
  },
  {
   "cell_type": "markdown",
   "id": "befa05ea",
   "metadata": {},
   "source": [
    "# Q46. Write an SQL query to report the customer ids from the Customer table that bought all the products in the Product table.Return the result table in any order.\n"
   ]
  },
  {
   "cell_type": "code",
   "execution_count": null,
   "id": "9abaa67a",
   "metadata": {},
   "outputs": [],
   "source": [
    "create Table Customer\n",
    "(\n",
    "customer_id int,\n",
    "product_key int,\n",
    "foreign key(product_key) references Product(product_key)\n",
    ");\n",
    "\n",
    "create Table Product\n",
    "(\n",
    "product_key int,\n",
    "primary key(product_key)\n",
    ");\n",
    "\n",
    "insert into Customer values (1,5),(2,6),(3,5),(3,6),(1,6);\n",
    "insert into Product values (5),(6);\n",
    "\n",
    "select customer_id\n",
    "from\n",
    "customer\n",
    "group by customer_id\n",
    "having count(distinct product_key)=(select count(*) from product);"
   ]
  },
  {
   "cell_type": "markdown",
   "id": "7093c3c3",
   "metadata": {},
   "source": [
    "# Q47. Write an SQL query that reports the most experienced employees in each project. In case of a tie, report all employees with the maximum number of experience years.Return the result table in any order.\n"
   ]
  },
  {
   "cell_type": "code",
   "execution_count": null,
   "id": "bbee2cf4",
   "metadata": {},
   "outputs": [],
   "source": [
    "create Table Project\n",
    "(\n",
    "project_id Int,\n",
    "employee_id Int,\n",
    "primary key(project_id, employee_id),\n",
    "foreign key(employee_id) references Employee(employee_id)\n",
    ");\n",
    "create Table Employee\n",
    "(\n",
    "employee_id Int,\n",
    "Name Varchar(30),\n",
    "experience_years Int,\n",
    "primary key(employee_id)\n",
    "); \n",
    "\n",
    "insert into Project values (1,1),(1,2),(1,3),(2,1),(2,4);\n",
    "insert into  Employee values (1,'Khaled',3),(2,'Ali',2),(3,'John',3),(4,'Doe',2);\n",
    "\n",
    "select t.project_id, t.employee_id\n",
    "from\n",
    "(select p.project_id, e.employee_id, dense_rank() over(partition by p.project_id \n",
    "order by e.experience_years desc) as r\n",
    "from\n",
    "project p\n",
    "left join\n",
    "employee e\n",
    "on p.employee_id = e.employee_id) t\n",
    "where r = 1\n",
    "order by t.project_id;"
   ]
  },
  {
   "cell_type": "markdown",
   "id": "4661b686",
   "metadata": {},
   "source": [
    "# Q48. Write an SQL query that reports the books that have sold less than 10 copies in the last year,excluding books that have been available for less than one month from today. Assume today is 2019-06-23.Return the result table in any order."
   ]
  },
  {
   "cell_type": "code",
   "execution_count": null,
   "id": "c53efaf3",
   "metadata": {},
   "outputs": [],
   "source": [
    "create Table Books\n",
    "(\n",
    "book_id Int,\n",
    "Name Varchar(30),\n",
    "available_from Date,\n",
    "primary key(book_id)\n",
    ");\n",
    "\n",
    "create Table Orders\n",
    "(\n",
    "order_id Int,\n",
    "book_id Int,\n",
    "quantity Int,\n",
    "dispatch_date date,\n",
    "primary key(order_id),\n",
    "foreign key(book_id) references Books(book_id) \n",
    ");\n",
    "\n",
    "insert into Books values (1,\"Kalila And Demna\",'2010-01-01'),(2,\"28 Letters\",'2012-05-12'),(3,\"The Hobbit\",'2019-06-10'),\n",
    "(4,\"13 Reasons Why\",'2019-06-01'),(5,\"The Hunger Games\",'2008-09-21');\n",
    "insert into Orders values (1,1,2,'2018-07-26'),(2,1,1,'2018-11-05'),(3,3,8,'2019-06-11'),(4,4,6,'2019-06-05'),(5,4,5,'2019-06-20'),\n",
    "(6,5,9,'2009-02-02'),(7,5,8,'2010-04-13');\n",
    "\n",
    "select t1.book_id, t1.name\n",
    "from\n",
    "(\n",
    "(select book_id, name from Books where\n",
    "available_from < '2019-05-23') t1\n",
    "left join\n",
    "(select book_id, sum(quantity) as quantity\n",
    "from Orders\n",
    "where dispatch_date > '2018-06-23' and dispatch_date<= '2019-06-23'\n",
    "group by book_id\n",
    "having quantity < 10) t2\n",
    "on t1.book_id = t2.book_id\n",
    ");"
   ]
  },
  {
   "cell_type": "markdown",
   "id": "cfded06e",
   "metadata": {},
   "source": [
    "# Q49. Write a SQL query to find the highest grade with its corresponding course for each student. In case of a tie, you should find the course with the smallest course_id.Return the result table ordered by student_id in ascending order."
   ]
  },
  {
   "cell_type": "code",
   "execution_count": null,
   "id": "fcc46d88",
   "metadata": {},
   "outputs": [],
   "source": [
    "create Table Enrollments\n",
    "(\n",
    "student_id Int,\n",
    "course_id Int,\n",
    "Grade Int,\n",
    "primary key(student_id, course_id) \n",
    ");\n",
    "insert into Enrollments values (2,2,95),(2,3,95),(1,1,90),(1,2,99),(3,1,80),(3,2,75),(3,3,82);\n",
    "select t.student_id, t.course_id, t.grade\n",
    "from\n",
    "(select student_id, course_id, grade, dense_rank() over(partition by student_id \n",
    "order by grade desc, course_id) as r\n",
    "from enrollments) t\n",
    "where r = 1\n",
    "order by t.student_id;"
   ]
  },
  {
   "cell_type": "markdown",
   "id": "3e6dc73e",
   "metadata": {},
   "source": [
    "# Q50. Write an SQL query to find the winner in each group.Return the result table in any order."
   ]
  },
  {
   "cell_type": "code",
   "execution_count": null,
   "id": "a67dd75a",
   "metadata": {},
   "outputs": [],
   "source": [
    "create Table  Players\n",
    "(\n",
    "player_id Int,\n",
    "group_id int,\n",
    "primary key(player_id)\n",
    ");\n",
    "\n",
    "create Table Matches\n",
    "(\n",
    "match_id Int,\n",
    "first_player Int,\n",
    "second_player Int,\n",
    " first_score Int,\n",
    "second_score Int,\n",
    "primary key(match_id)\n",
    ");\n",
    "insert into Players values (15,1),(25,1),(30,1),(45,1),(10,2),(35,2),(50,2),(20,3),(40,3);\n",
    "insert into Matches values (1,15,45,3,0),(2,30,25,1,2),(3,30,15,2,0),(4,40,20,5,2),(5,35,50,1,1);\n",
    "\n",
    "select t2.group_id, t2.player_id from\n",
    "(\n",
    "select t1.group_id, t1.player_id, \n",
    "dense_rank() over(partition by group_id order by score desc, player_id) as r\n",
    "from\n",
    "(\n",
    "select p.*, case when p.player_id = m.first_player then m.first_score\n",
    "when p.player_id = m.second_player then m.second_score\n",
    "end as score\n",
    "from\n",
    "Players p, Matches m\n",
    "where player_id in (first_player, second_player)\n",
    ") t1\n",
    ") t2\n",
    "where r = 1;"
   ]
  }
 ],
 "metadata": {
  "kernelspec": {
   "display_name": "Python 3 (ipykernel)",
   "language": "python",
   "name": "python3"
  },
  "language_info": {
   "codemirror_mode": {
    "name": "ipython",
    "version": 3
   },
   "file_extension": ".py",
   "mimetype": "text/x-python",
   "name": "python",
   "nbconvert_exporter": "python",
   "pygments_lexer": "ipython3",
   "version": "3.11.4"
  }
 },
 "nbformat": 4,
 "nbformat_minor": 5
}
